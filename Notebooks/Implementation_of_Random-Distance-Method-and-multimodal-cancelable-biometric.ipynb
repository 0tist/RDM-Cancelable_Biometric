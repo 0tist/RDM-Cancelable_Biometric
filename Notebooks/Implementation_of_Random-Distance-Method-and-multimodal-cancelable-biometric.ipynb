{
 "cells": [
  {
   "cell_type": "code",
   "execution_count": 2,
   "metadata": {},
   "outputs": [],
   "source": [
    "import numpy as np\n",
    "from LogGabor import LogGabor\n",
    "import cv2\n",
    "import matplotlib.pyplot as plt"
   ]
  },
  {
   "cell_type": "code",
   "execution_count": 2,
   "metadata": {},
   "outputs": [],
   "source": [
    "%matplotlib inline\n",
    "#for each user separately\n",
    "np.random.seed(4)"
   ]
  },
  {
   "cell_type": "markdown",
   "metadata": {},
   "source": [
    "For now I'll be working on `cv2.getGaborKernel`, just to experiment on things but in future, maybe I'll shift to `LogGabor` as it offers more flexibility"
   ]
  },
  {
   "cell_type": "markdown",
   "metadata": {},
   "source": [
    "In the paper, authors have used 24 different filters(4 scales $\\times$ 6 orientations), by scale it meant the sixe of the fiter for example 3$\\times$3, 4$\\times$4, 28$\\times$28, etc. and orientations mean the angle = [pi/4, pi/3, pi/2, pi]. I'll fill in on this as I understand more about the concept."
   ]
  },
  {
   "cell_type": "markdown",
   "metadata": {},
   "source": [
    "The filters are contsructed in terms of two components:\n",
    "1. The radial component, which controls the frequency band to which the filter responds\n",
    "2. The angular component, which controls the orientation of the filter"
   ]
  },
  {
   "cell_type": "code",
   "execution_count": 3,
   "metadata": {},
   "outputs": [
    {
     "name": "stdout",
     "output_type": "stream",
     "text": [
      "Help on class LogGabor in module LogGabor.LogGabor:\n",
      "\n",
      "class LogGabor(SLIP.SLIP.Image)\n",
      " |  LogGabor(pe)\n",
      " |  \n",
      " |  Defines a LogGabor framework by defining a ``loggabor`` function which return the envelope of a log-Gabor filter.\n",
      " |  \n",
      " |  Its envelope is equivalent to a log-normal probability distribution on the frequency axis, and von-mises on the radial axis.\n",
      " |  \n",
      " |  Method resolution order:\n",
      " |      LogGabor\n",
      " |      SLIP.SLIP.Image\n",
      " |      builtins.object\n",
      " |  \n",
      " |  Methods defined here:\n",
      " |  \n",
      " |  __init__(self, pe)\n",
      " |      Initializes the Image class\n",
      " |      \n",
      " |      May take as input:\n",
      " |      \n",
      " |      - a dictionary containing parameters\n",
      " |      - a ``ndarray`` (dimensions ``N_X`` and ``N_Y`` are guessed from this array)\n",
      " |      - a string representing a file or URL pointing to an image file\n",
      " |      - a string pointing to  a file or URL containing a dictionary of parameters (or simply the name of the file)\n",
      " |      - a ``NeuroTools.parameters.ParameterSet`` object containing parameters\n",
      " |      \n",
      " |      Parameters are\n",
      " |      \n",
      " |      - N_X and N_Y which are respectively the number of pixels in the vertical and horizontal dimensions respectively (MANDATORY)\n",
      " |      - optional parameters which are used in the various functions such as N_image when handling a database or the whitening parameters.\n",
      " |  \n",
      " |  argmax(self, C)\n",
      " |      Returns the ArgMax from C by returning the\n",
      " |      (x_pos, y_pos, theta, scale)  tuple\n",
      " |      \n",
      " |      >>> C = np.random.randn(10, 10, 5, 4)\n",
      " |      >>> x_pos, y_pos, theta, scale = mp.argmax(C)\n",
      " |      >>> C[x_pos][y_pos][theta][scale] = C.max()\n",
      " |  \n",
      " |  band(self, sf_0, B_sf, force=False)\n",
      " |      Returns the radial frequency envelope:\n",
      " |      \n",
      " |      Selects a preferred spatial frequency ``sf_0`` and a bandwidth ``B_sf``.\n",
      " |  \n",
      " |  golden_pyramid(self, z, mask=False, spiral=True, fig_width=13)\n",
      " |      The Golden Laplacian Pyramid.\n",
      " |      To represent the edges of the image at different levels, we may use a simple recursive approach constructing progressively a set of images of decreasing sizes, from a base to the summit of a pyramid. Using simple down-scaling and up-scaling operators we may approximate well a Laplacian operator. This is represented here by stacking images on a Golden Rectangle, that is where the aspect ratio is the golden section $\\phi \\eqdef \f",
      "rac{1+\\sqrt{5}}{2}$. We present here the base image on the left and the successive levels of the pyramid in a clockwise fashion (for clarity, we stopped at level $8$). Note that here we also use $\\phi^2$ (that is $\\phi+1$) as the down-scaling factor so that the resolution of the pyramid images correspond across scales. Note at last that coefficient are very kurtotic: most are near zero, the distribution of coefficients has long tails.\n",
      " |  \n",
      " |  init(self)\n",
      " |      Initializes different convenient matrices for image processing.\n",
      " |      \n",
      " |      To be called when keeping the same Image object but changing the size of the image.\n",
      " |  \n",
      " |  linear_pyramid(self, image)\n",
      " |  \n",
      " |  loggabor(self, x_pos, y_pos, sf_0, B_sf, theta, B_theta, preprocess=True)\n",
      " |      Returns the envelope of a LogGabor\n",
      " |      \n",
      " |      Note that the convention for coordinates follows that of matrices:\n",
      " |      the origin is at the top left of the image, and coordinates are first\n",
      " |      the rows (vertical axis, going down) then the columns (horizontal axis,\n",
      " |      going right).\n",
      " |  \n",
      " |  loggabor_image(self, x_pos, y_pos, theta, sf_0, phase, B_sf, B_theta)\n",
      " |      Returns the image of a LogGabor\n",
      " |      \n",
      " |      Note that the convention for coordinates follows that of matrices:\n",
      " |      the origin is at the top left of the image, and coordinates are first\n",
      " |      the rows (vertical axis, going down) then the columns (horizontal axis,\n",
      " |      going right).\n",
      " |  \n",
      " |  orientation(self, theta, B_theta, force=False)\n",
      " |      Returns the orientation envelope:\n",
      " |      We use a von-Mises distribution on the orientation:\n",
      " |      - mean orientation is ``theta`` (in radians),\n",
      " |      - ``B_theta`` is the bandwidth (in radians). It is equal to the standard deviation of the Gaussian\n",
      " |      envelope which approximate the distribution for low bandwidths. The Half-Width at Half Height is\n",
      " |      given by approximately np.sqrt(2*B_theta_**2*np.log(2)).\n",
      " |      \n",
      " |      # selecting one direction,  theta is the mean direction, B_theta the spread\n",
      " |      # we use a von-mises distribution on the orientation\n",
      " |      # see http://en.wikipedia.org/wiki/Von_Mises_distribution\n",
      " |  \n",
      " |  show_loggabor(self, u, v, sf_0, B_sf, theta, B_theta, title='', phase=0.0)\n",
      " |  \n",
      " |  ----------------------------------------------------------------------\n",
      " |  Methods inherited from SLIP.SLIP.Image:\n",
      " |  \n",
      " |  FTfilter(self, image, FT_filter, full=False)\n",
      " |      Using the ``FTfilter`` function, it is easy to filter an image with a filter defined in Fourier space.\n",
      " |  \n",
      " |  dewhitening(self, white, preprocess=True, center=True, use_max=True, f_0=None)\n",
      " |      Returns the dewhitened image\n",
      " |  \n",
      " |  enveloppe_color(self, alpha)\n",
      " |  \n",
      " |  extract_patches_2d(self, image, patch_size, N_patches)\n",
      " |      Reshape a 2D image into a collection of patches\n",
      " |      \n",
      " |      redundant with self.patch, but similar call as\n",
      " |      https://github.com/scikit-learn/scikit-learn/blob/14031f6/sklearn/feature_extraction/image.py#L300\n",
      " |  \n",
      " |  fourier(self, image, full=True)\n",
      " |      Using the ``fourierr`` function, it is easy to retieve its Fourier transformation.\n",
      " |  \n",
      " |  fourier_grid(self)\n",
      " |      use that function to define a reference frame for envelopes in Fourier space.\n",
      " |      In general, it is more efficient to define dimensions as powers of 2.\n",
      " |  \n",
      " |  frequency_angle(self)\n",
      " |  \n",
      " |  frequency_radius(self)\n",
      " |  \n",
      " |  full_url(self, name_database)\n",
      " |  \n",
      " |  get_imagelist(self, exp, name_database='natural')\n",
      " |      returns an imagelist from a pickled database.\n",
      " |      \n",
      " |      If the stored imagelist does not exist, creates it.\n",
      " |      The ``exp`` string allows to tag the list for a particular experiment.\n",
      " |  \n",
      " |  get_pe(self, pe)\n",
      " |      Guesses the parameters from the init variable\n",
      " |      \n",
      " |      We perform a duck-typing to guess parameters from different possible sources.\n",
      " |      outputs a ParameterSet\n",
      " |  \n",
      " |  get_size(self, im)\n",
      " |  \n",
      " |  hist_radial_frequency(self, FT, N_f=20)\n",
      " |      A simple function to compute a radial histogram in different spatial frequency bands.\n",
      " |  \n",
      " |  imread(self, URL, resize=True)\n",
      " |  \n",
      " |  imshow(self, image, fig=None, ax=None, cmap=<matplotlib.colors.LinearSegmentedColormap object at 0x123afdc90>, axis=False, norm=True, center=True, xlabel='Y axis', ylabel='X axis', figsize=None, mask=False, vmin=-1, vmax=1)\n",
      " |      Plotting routine to show an image\n",
      " |      \n",
      " |      Place the [0,0] index of the array in the upper left  corner of the axes.\n",
      " |      Data limits for the axes. The default assigns zero-based row, column\n",
      " |      indices to the x, y centers of the pixels.\n",
      " |      Note that the convention for coordinates follows that of matrices: the\n",
      " |      origin is at the top left of the image, and coordinates are first the\n",
      " |      rows (vertical axis, going down) then the columns (horizontal axis,\n",
      " |      going right).\n",
      " |  \n",
      " |  init_logging(self, filename='debug.log', name='SLIP')\n",
      " |  \n",
      " |  invert(self, FT_image, full=False)\n",
      " |      # Fourier number crunching\n",
      " |  \n",
      " |  list_database(self, name_database)\n",
      " |      Returns a list of the files in a folder\n",
      " |  \n",
      " |  load_in_database(self, name_database, i_image=None, filename=None, verbose=True)\n",
      " |      Loads a random image from the database ``name_database``.\n",
      " |      \n",
      " |      The strategy is to pick one image in the folder using the list provided by the ``list_database``function.\n",
      " |      \n",
      " |      TODO: it would be useful to be able to load from standard databases such as http://www.cps.utexas.edu/natural_scenes/db.shtml\n",
      " |  \n",
      " |  low_pass(self, f_0, steepness)\n",
      " |      Returns the low_pass filter used by (Olshausen, 98)\n",
      " |      \n",
      " |      parameters from Atick (p.240)\n",
      " |      f_0 = 22 c/deg in primates: the full image is approx 45 deg\n",
      " |      alpha makes the aspect change (1=diamond on the vert and hor, 2 = anisotropic)\n",
      " |      \n",
      " |      from Olshausen 98 (p.11):\n",
      " |      f_0  = 200 cycles / image (512 x 512 images)\n",
      " |      in absolute coordinates : f_0 = 200 / 512 / 2\n",
      " |      \n",
      " |      steepness is to produce a \"fairly sharp cutoff\"\n",
      " |  \n",
      " |  make_imagelist(self, name_database, verbose=False)\n",
      " |      Makes a list of images with no repetition.\n",
      " |      \n",
      " |      Takes as an input the name of a database (the name of a folder in the ``datapath``),\n",
      " |      returns a list of the filenames along with the crop area.\n",
      " |  \n",
      " |  mkdir(self)\n",
      " |      Initializes two folders for storing intermediate matrices and images.\n",
      " |      \n",
      " |      To be called before any operation to store or retrieve a result or figure.\n",
      " |  \n",
      " |  normalize(self, image, center=True, use_max=True)\n",
      " |  \n",
      " |  olshausen_whitening_filt(self, f_0)\n",
      " |      Returns the whitening filter used by (Olshausen, 98)\n",
      " |  \n",
      " |  patch(self, name_database, i_image=None, filename=None, croparea=None, threshold=0.2, verbose=True, preprocess=True, center=True, use_max=True, do_whitening=False)\n",
      " |      takes a subimage of size s (a tuple)\n",
      " |      \n",
      " |      does not accept if energy is relatively below a threshold (flat image)\n",
      " |  \n",
      " |  pipeline(self, image, preprocess=True, center=True, use_max=True, do_whitening=False)\n",
      " |      pre-processing pipeline\n",
      " |  \n",
      " |  power_spectrum(self, image)\n",
      " |  \n",
      " |  preprocess(self, image)\n",
      " |      Returns the pre-processed image\n",
      " |      \n",
      " |      From raw pixelized images, we want to keep information that is relevent to the content of\n",
      " |      the objects in the image. In particular, we want to avoid:\n",
      " |      \n",
      " |          - information that would not be uniformly distributed when rotating the image. In\n",
      " |          particular, we discard information outside the unit disk in Fourier space, in particular\n",
      " |          above the Nyquist frequency,\n",
      " |          - information that relates to information of the order the size of the image. This\n",
      " |          involves discarding information at low-level frequencies.\n",
      " |      \n",
      " |      See http://blog.invibe.net/posts/2015-05-21-a-simple-pre-processing-filter-for-image-processing.html\n",
      " |      for more information.\n",
      " |  \n",
      " |  retina(self, df=0.07, sigma=0.5)\n",
      " |      A parametric description of the envelope of retinal processsing.\n",
      " |      See http://blog.invibe.net/posts/2015-05-21-a-simple-pre-processing-filter-for-image-processing.html\n",
      " |      for more information.\n",
      " |      \n",
      " |      In digital images, some of the energy in Fourier space is concentrated outside the\n",
      " |      disk corresponding to the Nyquist frequency. Let's design a filter with:\n",
      " |      \n",
      " |          - a sharp cut-off for radial frequencies higher than the Nyquist frequency,\n",
      " |          - times a smooth but sharp transition (implemented with a decaying exponential),\n",
      " |          - times a high-pass filter designed by one minus a gaussian blur.\n",
      " |      \n",
      " |      This filter is rotation invariant.\n",
      " |      \n",
      " |      Note that this filter is defined by two parameters:\n",
      " |          - one for scaling the smoothness of the transition in the high-frequency range,\n",
      " |          - one for the characteristic length of the high-pass filter.\n",
      " |      \n",
      " |      The first is defined relative to the Nyquist frequency (in absolute values) while the second\n",
      " |      is relative to the size of the image in pixels and is given in number of pixels.\n",
      " |  \n",
      " |  savefig(self, fig, fname, figpath='', formats=None, display=True)\n",
      " |  \n",
      " |  set_size(self, im)\n",
      " |      Re-initializes the Image class with  the size given in ``im``\n",
      " |      \n",
      " |      May take as input:\n",
      " |      \n",
      " |      - a numpy array,\n",
      " |      - a string representing a file or URL pointing to an image file\n",
      " |      - a tuple\n",
      " |      \n",
      " |      Updated parameters are\n",
      " |      \n",
      " |      - N_X and N_Y which are respectively the number of pixels in the vertical and horizontal dimensions respectively (MANDATORY)\n",
      " |  \n",
      " |  show_FT(self, FT_image, fig=None, figsize=None, a1=None, a2=None, axis=False, title=True, FT_title='Spectrum', im_title='Image', norm=True, vmin=-1.0, vmax=1.0)\n",
      " |  \n",
      " |  show_image_FT(self, image, FT_image, fig=None, figsize=None, a1=None, a2=None, axis=False, title=True, FT_title='Spectrum', im_title='Image', norm=True, vmin=-1.0, vmax=1.0)\n",
      " |  \n",
      " |  show_spectrum(self, image, fig=None, figsize=None, a1=None, a2=None, axis=False, title=True, FT_title='Spectrum', im_title='Image', norm=True, vmin=-1.0, vmax=1.0)\n",
      " |  \n",
      " |  trans(self, u, v)\n",
      " |  \n",
      " |  translate(self, image, vec, preshift=True)\n",
      " |      Translate image by vec (in pixels)\n",
      " |      \n",
      " |      Note that the convention for coordinates follows that of matrices: the origin is at the top left of the image, and coordinates are first the rows (vertical axis, going down) then the columns (horizontal axis, going right).\n",
      " |  \n",
      " |  whitening(self, image, f_0=None)\n",
      " |      Returns the whitened image\n",
      " |  \n",
      " |  whitening_filt(self, recompute=False, f_0=None)\n",
      " |      Returns the envelope of the whitening filter.\n",
      " |      \n",
      " |      if we chose one based on structural assumptions (``struct=True``)\n",
      " |          then we return a 1/f spectrum based on the assumption that the structure of images\n",
      " |          is self-similar and thus that the Fourier spectrum scales a priori in 1/f.\n",
      " |      \n",
      " |      elif we chose to learn,\n",
      " |          returns theaverage correlation filter in FT space.\n",
      " |      \n",
      " |          Computes the average power spectrum = FT of cross-correlation, the mean decorrelation\n",
      " |          is given for instance by (Attick, 92).\n",
      " |      \n",
      " |      else\n",
      " |          we return the parametrization based on Olshausen, 1996\n",
      " |  \n",
      " |  ----------------------------------------------------------------------\n",
      " |  Data descriptors inherited from SLIP.SLIP.Image:\n",
      " |  \n",
      " |  __dict__\n",
      " |      dictionary for instance variables (if defined)\n",
      " |  \n",
      " |  __weakref__\n",
      " |      list of weak references to the object (if defined)\n",
      "\n"
     ]
    }
   ],
   "source": [
    "help(LogGabor)"
   ]
  },
  {
   "cell_type": "code",
   "execution_count": 4,
   "metadata": {},
   "outputs": [
    {
     "data": {
      "text/plain": [
       "['FTfilter',\n",
       " '__class__',\n",
       " '__delattr__',\n",
       " '__dict__',\n",
       " '__dir__',\n",
       " '__doc__',\n",
       " '__eq__',\n",
       " '__format__',\n",
       " '__ge__',\n",
       " '__getattribute__',\n",
       " '__gt__',\n",
       " '__hash__',\n",
       " '__init__',\n",
       " '__init_subclass__',\n",
       " '__le__',\n",
       " '__lt__',\n",
       " '__module__',\n",
       " '__ne__',\n",
       " '__new__',\n",
       " '__reduce__',\n",
       " '__reduce_ex__',\n",
       " '__repr__',\n",
       " '__setattr__',\n",
       " '__sizeof__',\n",
       " '__str__',\n",
       " '__subclasshook__',\n",
       " '__weakref__',\n",
       " 'argmax',\n",
       " 'band',\n",
       " 'dewhitening',\n",
       " 'enveloppe_color',\n",
       " 'extract_patches_2d',\n",
       " 'fourier',\n",
       " 'fourier_grid',\n",
       " 'frequency_angle',\n",
       " 'frequency_radius',\n",
       " 'full_url',\n",
       " 'get_imagelist',\n",
       " 'get_pe',\n",
       " 'get_size',\n",
       " 'golden_pyramid',\n",
       " 'hist_radial_frequency',\n",
       " 'imread',\n",
       " 'imshow',\n",
       " 'init',\n",
       " 'init_logging',\n",
       " 'invert',\n",
       " 'linear_pyramid',\n",
       " 'list_database',\n",
       " 'load_in_database',\n",
       " 'loggabor',\n",
       " 'loggabor_image',\n",
       " 'low_pass',\n",
       " 'make_imagelist',\n",
       " 'mkdir',\n",
       " 'normalize',\n",
       " 'olshausen_whitening_filt',\n",
       " 'orientation',\n",
       " 'patch',\n",
       " 'pipeline',\n",
       " 'power_spectrum',\n",
       " 'preprocess',\n",
       " 'retina',\n",
       " 'savefig',\n",
       " 'set_size',\n",
       " 'show_FT',\n",
       " 'show_image_FT',\n",
       " 'show_loggabor',\n",
       " 'show_spectrum',\n",
       " 'trans',\n",
       " 'translate',\n",
       " 'whitening',\n",
       " 'whitening_filt']"
      ]
     },
     "execution_count": 4,
     "metadata": {},
     "output_type": "execute_result"
    }
   ],
   "source": [
    "dir(LogGabor)"
   ]
  },
  {
   "cell_type": "code",
   "execution_count": 5,
   "metadata": {},
   "outputs": [
    {
     "name": "stdout",
     "output_type": "stream",
     "text": [
      "Help on built-in function getGaborKernel:\n",
      "\n",
      "getGaborKernel(...)\n",
      "    getGaborKernel(ksize, sigma, theta, lambd, gamma[, psi[, ktype]]) -> retval\n",
      "    .   @brief Returns Gabor filter coefficients.\n",
      "    .   \n",
      "    .   For more details about gabor filter equations and parameters, see: [Gabor\n",
      "    .   Filter](http://en.wikipedia.org/wiki/Gabor_filter).\n",
      "    .   \n",
      "    .   @param ksize Size of the filter returned.\n",
      "    .   @param sigma Standard deviation of the gaussian envelope.\n",
      "    .   @param theta Orientation of the normal to the parallel stripes of a Gabor function.\n",
      "    .   @param lambd Wavelength of the sinusoidal factor.\n",
      "    .   @param gamma Spatial aspect ratio.\n",
      "    .   @param psi Phase offset.\n",
      "    .   @param ktype Type of filter coefficients. It can be CV_32F or CV_64F .\n",
      "\n"
     ]
    }
   ],
   "source": [
    "help(cv2.getGaborKernel)"
   ]
  },
  {
   "cell_type": "code",
   "execution_count": 6,
   "metadata": {},
   "outputs": [],
   "source": [
    "ksize = 28\n",
    "sigma = 8\n",
    "theta = np.pi / 10\n",
    "lambd = np.pi / 10\n",
    "gamma = 0.5\n",
    "phi = 0"
   ]
  },
  {
   "cell_type": "code",
   "execution_count": 7,
   "metadata": {},
   "outputs": [],
   "source": [
    "log_gabor = cv2.getGaborKernel((ksize, ksize), sigma, theta, lambd, gamma, phi, ktype=cv2.CV_32F)"
   ]
  },
  {
   "cell_type": "code",
   "execution_count": 8,
   "metadata": {
    "scrolled": true
   },
   "outputs": [
    {
     "data": {
      "text/plain": [
       "<matplotlib.image.AxesImage at 0x12d8d4110>"
      ]
     },
     "execution_count": 8,
     "metadata": {},
     "output_type": "execute_result"
    },
    {
     "data": {
      "image/png": "[encoded data removed]",
      "text/plain": [
       "<Figure size 432x288 with 1 Axes>"
      ]
     },
     "metadata": {
      "needs_background": "light"
     },
     "output_type": "display_data"
    }
   ],
   "source": [
    "plt.imshow(log_gabor)"
   ]
  },
  {
   "cell_type": "markdown",
   "metadata": {},
   "source": [
    "$ False\\ acceptance\\ ratio\\ = \\frac{impostor\\ scores\\ exceeding\\ threshold}{all\\ impostor\\ scores} = \\frac{falsly\\ accepted}{all the accepted cases}$  <br>\n",
    "$ False\\ Rejection\\ ratio = \\frac{genuine\\ scores\\ falling\\ below\\ threshold}{all\\ genuine\\ scores} = \\frac{flasly\\ rejected}{all\\ rejected\\ cases}$"
   ]
  },
  {
   "cell_type": "code",
   "execution_count": 9,
   "metadata": {},
   "outputs": [],
   "source": [
    "from pathlib import Path\n",
    "from fastcore.imports import *\n",
    "from fastai2.vision.all import *\n",
    "import os\n",
    "cwd = os.getcwd()\n",
    "path = Path(cwd + '/CASIA-FaceV5-Crop/')"
   ]
  },
  {
   "cell_type": "code",
   "execution_count": 10,
   "metadata": {},
   "outputs": [
    {
     "name": "stdout",
     "output_type": "stream",
     "text": [
      "\u001b[01;34m/Users/jay.0tist/Documents/research/DRDO/CASIA-FaceV5-Crop\u001b[00m\n",
      "├── \u001b[01;34m000\u001b[00m\n",
      "├── \u001b[01;34m001\u001b[00m\n",
      "├── \u001b[01;34m002\u001b[00m\n",
      "├── \u001b[01;34m003\u001b[00m\n",
      "├── \u001b[01;34m004\u001b[00m\n",
      "├── \u001b[01;34m005\u001b[00m\n",
      "├── \u001b[01;34m006\u001b[00m\n",
      "├── \u001b[01;34m007\u001b[00m\n",
      "├── \u001b[01;34m008\u001b[00m\n",
      "├── \u001b[01;34m009\u001b[00m\n",
      "├── \u001b[01;34m010\u001b[00m\n",
      "├── \u001b[01;34m011\u001b[00m\n",
      "├── \u001b[01;34m012\u001b[00m\n",
      "├── \u001b[01;34m013\u001b[00m\n",
      "├── \u001b[01;34m014\u001b[00m\n",
      "├── \u001b[01;34m015\u001b[00m\n",
      "├── \u001b[01;34m016\u001b[00m\n",
      "├── \u001b[01;34m017\u001b[00m\n",
      "├── \u001b[01;34m018\u001b[00m\n",
      "├── \u001b[01;34m019\u001b[00m\n",
      "├── \u001b[01;34m020\u001b[00m\n",
      "├── \u001b[01;34m021\u001b[00m\n",
      "├── \u001b[01;34m022\u001b[00m\n",
      "├── \u001b[01;34m023\u001b[00m\n",
      "├── \u001b[01;34m024\u001b[00m\n",
      "├── \u001b[01;34m025\u001b[00m\n",
      "├── \u001b[01;34m026\u001b[00m\n",
      "├── \u001b[01;34m027\u001b[00m\n",
      "├── \u001b[01;34m028\u001b[00m\n",
      "├── \u001b[01;34m029\u001b[00m\n",
      "├── \u001b[01;34m030\u001b[00m\n",
      "├── \u001b[01;34m031\u001b[00m\n",
      "├── \u001b[01;34m032\u001b[00m\n",
      "├── \u001b[01;34m033\u001b[00m\n",
      "├── \u001b[01;34m034\u001b[00m\n",
      "├── \u001b[01;34m035\u001b[00m\n",
      "├── \u001b[01;34m036\u001b[00m\n",
      "├── \u001b[01;34m037\u001b[00m\n",
      "├── \u001b[01;34m038\u001b[00m\n",
      "├── \u001b[01;34m039\u001b[00m\n",
      "├── \u001b[01;34m040\u001b[00m\n",
      "├── \u001b[01;34m041\u001b[00m\n",
      "├── \u001b[01;34m042\u001b[00m\n",
      "├── \u001b[01;34m043\u001b[00m\n",
      "├── \u001b[01;34m044\u001b[00m\n",
      "├── \u001b[01;34m045\u001b[00m\n",
      "├── \u001b[01;34m046\u001b[00m\n",
      "├── \u001b[01;34m047\u001b[00m\n",
      "├── \u001b[01;34m048\u001b[00m\n",
      "├── \u001b[01;34m049\u001b[00m\n",
      "├── \u001b[01;34m050\u001b[00m\n",
      "├── \u001b[01;34m051\u001b[00m\n",
      "├── \u001b[01;34m052\u001b[00m\n",
      "├── \u001b[01;34m053\u001b[00m\n",
      "├── \u001b[01;34m054\u001b[00m\n",
      "├── \u001b[01;34m055\u001b[00m\n",
      "├── \u001b[01;34m056\u001b[00m\n",
      "├── \u001b[01;34m057\u001b[00m\n",
      "├── \u001b[01;34m058\u001b[00m\n",
      "├── \u001b[01;34m059\u001b[00m\n",
      "├── \u001b[01;34m060\u001b[00m\n",
      "├── \u001b[01;34m061\u001b[00m\n",
      "├── \u001b[01;34m062\u001b[00m\n",
      "├── \u001b[01;34m063\u001b[00m\n",
      "├── \u001b[01;34m064\u001b[00m\n",
      "├── \u001b[01;34m065\u001b[00m\n",
      "├── \u001b[01;34m066\u001b[00m\n",
      "├── \u001b[01;34m067\u001b[00m\n",
      "├── \u001b[01;34m068\u001b[00m\n",
      "├── \u001b[01;34m069\u001b[00m\n",
      "├── \u001b[01;34m070\u001b[00m\n",
      "├── \u001b[01;34m071\u001b[00m\n",
      "├── \u001b[01;34m072\u001b[00m\n",
      "├── \u001b[01;34m073\u001b[00m\n",
      "├── \u001b[01;34m074\u001b[00m\n",
      "├── \u001b[01;34m075\u001b[00m\n",
      "├── \u001b[01;34m076\u001b[00m\n",
      "├── \u001b[01;34m077\u001b[00m\n",
      "├── \u001b[01;34m078\u001b[00m\n",
      "├── \u001b[01;34m079\u001b[00m\n",
      "├── \u001b[01;34m080\u001b[00m\n",
      "├── \u001b[01;34m081\u001b[00m\n",
      "├── \u001b[01;34m082\u001b[00m\n",
      "├── \u001b[01;34m083\u001b[00m\n",
      "├── \u001b[01;34m084\u001b[00m\n",
      "├── \u001b[01;34m085\u001b[00m\n",
      "├── \u001b[01;34m086\u001b[00m\n",
      "├── \u001b[01;34m087\u001b[00m\n",
      "├── \u001b[01;34m088\u001b[00m\n",
      "├── \u001b[01;34m089\u001b[00m\n",
      "├── \u001b[01;34m090\u001b[00m\n",
      "├── \u001b[01;34m091\u001b[00m\n",
      "├── \u001b[01;34m092\u001b[00m\n",
      "├── \u001b[01;34m093\u001b[00m\n",
      "├── \u001b[01;34m094\u001b[00m\n",
      "├── \u001b[01;34m095\u001b[00m\n",
      "├── \u001b[01;34m096\u001b[00m\n",
      "├── \u001b[01;34m097\u001b[00m\n",
      "├── \u001b[01;34m098\u001b[00m\n",
      "├── \u001b[01;34m099\u001b[00m\n",
      "├── \u001b[01;34m100\u001b[00m\n",
      "├── \u001b[01;34m101\u001b[00m\n",
      "├── \u001b[01;34m102\u001b[00m\n",
      "├── \u001b[01;34m103\u001b[00m\n",
      "├── \u001b[01;34m104\u001b[00m\n",
      "├── \u001b[01;34m105\u001b[00m\n",
      "├── \u001b[01;34m106\u001b[00m\n",
      "├── \u001b[01;34m107\u001b[00m\n",
      "├── \u001b[01;34m108\u001b[00m\n",
      "├── \u001b[01;34m109\u001b[00m\n",
      "├── \u001b[01;34m110\u001b[00m\n",
      "├── \u001b[01;34m111\u001b[00m\n",
      "├── \u001b[01;34m112\u001b[00m\n",
      "├── \u001b[01;34m113\u001b[00m\n",
      "├── \u001b[01;34m114\u001b[00m\n",
      "├── \u001b[01;34m115\u001b[00m\n",
      "├── \u001b[01;34m116\u001b[00m\n",
      "├── \u001b[01;34m117\u001b[00m\n",
      "├── \u001b[01;34m118\u001b[00m\n",
      "├── \u001b[01;34m119\u001b[00m\n",
      "├── \u001b[01;34m120\u001b[00m\n",
      "├── \u001b[01;34m121\u001b[00m\n",
      "├── \u001b[01;34m122\u001b[00m\n",
      "├── \u001b[01;34m123\u001b[00m\n",
      "├── \u001b[01;34m124\u001b[00m\n",
      "├── \u001b[01;34m125\u001b[00m\n",
      "├── \u001b[01;34m126\u001b[00m\n",
      "├── \u001b[01;34m127\u001b[00m\n",
      "├── \u001b[01;34m128\u001b[00m\n",
      "├── \u001b[01;34m129\u001b[00m\n",
      "├── \u001b[01;34m130\u001b[00m\n",
      "├── \u001b[01;34m131\u001b[00m\n",
      "├── \u001b[01;34m132\u001b[00m\n",
      "├── \u001b[01;34m133\u001b[00m\n",
      "├── \u001b[01;34m134\u001b[00m\n",
      "├── \u001b[01;34m135\u001b[00m\n",
      "├── \u001b[01;34m136\u001b[00m\n",
      "├── \u001b[01;34m137\u001b[00m\n",
      "├── \u001b[01;34m138\u001b[00m\n",
      "├── \u001b[01;34m139\u001b[00m\n",
      "├── \u001b[01;34m140\u001b[00m\n",
      "├── \u001b[01;34m141\u001b[00m\n",
      "├── \u001b[01;34m142\u001b[00m\n",
      "├── \u001b[01;34m143\u001b[00m\n",
      "├── \u001b[01;34m144\u001b[00m\n",
      "├── \u001b[01;34m145\u001b[00m\n",
      "├── \u001b[01;34m146\u001b[00m\n",
      "├── \u001b[01;34m147\u001b[00m\n",
      "├── \u001b[01;34m148\u001b[00m\n",
      "├── \u001b[01;34m149\u001b[00m\n",
      "├── \u001b[01;34m150\u001b[00m\n",
      "├── \u001b[01;34m151\u001b[00m\n",
      "├── \u001b[01;34m152\u001b[00m\n",
      "├── \u001b[01;34m153\u001b[00m\n",
      "├── \u001b[01;34m154\u001b[00m\n",
      "├── \u001b[01;34m155\u001b[00m\n",
      "├── \u001b[01;34m156\u001b[00m\n",
      "├── \u001b[01;34m157\u001b[00m\n",
      "├── \u001b[01;34m158\u001b[00m\n",
      "├── \u001b[01;34m159\u001b[00m\n",
      "├── \u001b[01;34m160\u001b[00m\n",
      "├── \u001b[01;34m161\u001b[00m\n",
      "├── \u001b[01;34m162\u001b[00m\n",
      "├── \u001b[01;34m163\u001b[00m\n",
      "├── \u001b[01;34m164\u001b[00m\n",
      "├── \u001b[01;34m165\u001b[00m\n",
      "├── \u001b[01;34m166\u001b[00m\n",
      "├── \u001b[01;34m167\u001b[00m\n",
      "├── \u001b[01;34m168\u001b[00m\n",
      "├── \u001b[01;34m169\u001b[00m\n",
      "├── \u001b[01;34m170\u001b[00m\n",
      "├── \u001b[01;34m171\u001b[00m\n",
      "├── \u001b[01;34m172\u001b[00m\n",
      "├── \u001b[01;34m173\u001b[00m\n",
      "├── \u001b[01;34m174\u001b[00m\n",
      "├── \u001b[01;34m175\u001b[00m\n",
      "├── \u001b[01;34m176\u001b[00m\n",
      "├── \u001b[01;34m177\u001b[00m\n",
      "├── \u001b[01;34m178\u001b[00m\n",
      "├── \u001b[01;34m179\u001b[00m\n",
      "├── \u001b[01;34m180\u001b[00m\n",
      "├── \u001b[01;34m181\u001b[00m\n",
      "├── \u001b[01;34m182\u001b[00m\n",
      "├── \u001b[01;34m183\u001b[00m\n",
      "├── \u001b[01;34m184\u001b[00m\n",
      "├── \u001b[01;34m185\u001b[00m\n",
      "├── \u001b[01;34m186\u001b[00m\n",
      "├── \u001b[01;34m187\u001b[00m\n",
      "├── \u001b[01;34m188\u001b[00m\n",
      "├── \u001b[01;34m189\u001b[00m\n",
      "├── \u001b[01;34m190\u001b[00m\n",
      "├── \u001b[01;34m191\u001b[00m\n",
      "├── \u001b[01;34m192\u001b[00m\n",
      "├── \u001b[01;34m193\u001b[00m\n",
      "├── \u001b[01;34m194\u001b[00m\n",
      "├── \u001b[01;34m195\u001b[00m\n",
      "├── \u001b[01;34m196\u001b[00m\n",
      "├── \u001b[01;34m197\u001b[00m\n",
      "├── \u001b[01;34m198\u001b[00m\n",
      "├── \u001b[01;34m199\u001b[00m\n",
      "├── \u001b[01;34m200\u001b[00m\n",
      "├── \u001b[01;34m201\u001b[00m\n",
      "├── \u001b[01;34m202\u001b[00m\n",
      "├── \u001b[01;34m203\u001b[00m\n",
      "├── \u001b[01;34m204\u001b[00m\n",
      "├── \u001b[01;34m205\u001b[00m\n",
      "├── \u001b[01;34m206\u001b[00m\n",
      "├── \u001b[01;34m207\u001b[00m\n",
      "├── \u001b[01;34m208\u001b[00m\n",
      "├── \u001b[01;34m209\u001b[00m\n",
      "├── \u001b[01;34m210\u001b[00m\n",
      "├── \u001b[01;34m211\u001b[00m\n",
      "├── \u001b[01;34m212\u001b[00m\n",
      "├── \u001b[01;34m213\u001b[00m\n",
      "├── \u001b[01;34m214\u001b[00m\n",
      "├── \u001b[01;34m215\u001b[00m\n",
      "├── \u001b[01;34m216\u001b[00m\n",
      "├── \u001b[01;34m217\u001b[00m\n",
      "├── \u001b[01;34m218\u001b[00m\n",
      "├── \u001b[01;34m219\u001b[00m\n",
      "├── \u001b[01;34m220\u001b[00m\n",
      "├── \u001b[01;34m221\u001b[00m\n",
      "├── \u001b[01;34m222\u001b[00m\n",
      "├── \u001b[01;34m223\u001b[00m\n",
      "├── \u001b[01;34m224\u001b[00m\n",
      "├── \u001b[01;34m225\u001b[00m\n",
      "├── \u001b[01;34m226\u001b[00m\n",
      "├── \u001b[01;34m227\u001b[00m\n",
      "├── \u001b[01;34m228\u001b[00m\n",
      "├── \u001b[01;34m229\u001b[00m\n",
      "├── \u001b[01;34m230\u001b[00m\n",
      "├── \u001b[01;34m231\u001b[00m\n",
      "├── \u001b[01;34m232\u001b[00m\n",
      "├── \u001b[01;34m233\u001b[00m\n",
      "├── \u001b[01;34m234\u001b[00m\n",
      "├── \u001b[01;34m235\u001b[00m\n",
      "├── \u001b[01;34m236\u001b[00m\n",
      "├── \u001b[01;34m237\u001b[00m\n",
      "├── \u001b[01;34m238\u001b[00m\n",
      "├── \u001b[01;34m239\u001b[00m\n",
      "├── \u001b[01;34m240\u001b[00m\n",
      "├── \u001b[01;34m241\u001b[00m\n",
      "├── \u001b[01;34m242\u001b[00m\n",
      "├── \u001b[01;34m243\u001b[00m\n",
      "├── \u001b[01;34m244\u001b[00m\n",
      "├── \u001b[01;34m245\u001b[00m\n",
      "├── \u001b[01;34m246\u001b[00m\n",
      "├── \u001b[01;34m247\u001b[00m\n",
      "├── \u001b[01;34m248\u001b[00m\n",
      "├── \u001b[01;34m249\u001b[00m\n",
      "├── \u001b[01;34m250\u001b[00m\n",
      "├── \u001b[01;34m251\u001b[00m\n",
      "├── \u001b[01;34m252\u001b[00m\n",
      "├── \u001b[01;34m253\u001b[00m\n",
      "├── \u001b[01;34m254\u001b[00m\n",
      "├── \u001b[01;34m255\u001b[00m\n",
      "├── \u001b[01;34m256\u001b[00m\n",
      "├── \u001b[01;34m257\u001b[00m\n",
      "├── \u001b[01;34m258\u001b[00m\n",
      "├── \u001b[01;34m259\u001b[00m\n",
      "├── \u001b[01;34m260\u001b[00m\n",
      "├── \u001b[01;34m261\u001b[00m\n",
      "├── \u001b[01;34m262\u001b[00m\n",
      "├── \u001b[01;34m263\u001b[00m\n",
      "├── \u001b[01;34m264\u001b[00m\n",
      "├── \u001b[01;34m265\u001b[00m\n",
      "├── \u001b[01;34m266\u001b[00m\n",
      "├── \u001b[01;34m267\u001b[00m\n",
      "├── \u001b[01;34m268\u001b[00m\n",
      "├── \u001b[01;34m269\u001b[00m\n",
      "├── \u001b[01;34m270\u001b[00m\n",
      "├── \u001b[01;34m271\u001b[00m\n",
      "├── \u001b[01;34m272\u001b[00m\n",
      "├── \u001b[01;34m273\u001b[00m\n",
      "├── \u001b[01;34m274\u001b[00m\n",
      "├── \u001b[01;34m275\u001b[00m\n",
      "├── \u001b[01;34m276\u001b[00m\n",
      "├── \u001b[01;34m277\u001b[00m\n",
      "├── \u001b[01;34m278\u001b[00m\n",
      "├── \u001b[01;34m279\u001b[00m\n",
      "├── \u001b[01;34m280\u001b[00m\n",
      "├── \u001b[01;34m281\u001b[00m\n",
      "├── \u001b[01;34m282\u001b[00m\n",
      "├── \u001b[01;34m283\u001b[00m\n",
      "├── \u001b[01;34m284\u001b[00m\n",
      "├── \u001b[01;34m285\u001b[00m\n",
      "├── \u001b[01;34m286\u001b[00m\n",
      "├── \u001b[01;34m287\u001b[00m\n",
      "├── \u001b[01;34m288\u001b[00m\n",
      "├── \u001b[01;34m289\u001b[00m\n",
      "├── \u001b[01;34m290\u001b[00m\n",
      "├── \u001b[01;34m291\u001b[00m\n",
      "├── \u001b[01;34m292\u001b[00m\n",
      "├── \u001b[01;34m293\u001b[00m\n",
      "├── \u001b[01;34m294\u001b[00m\n",
      "├── \u001b[01;34m295\u001b[00m\n",
      "├── \u001b[01;34m296\u001b[00m\n",
      "├── \u001b[01;34m297\u001b[00m\n",
      "├── \u001b[01;34m298\u001b[00m\n",
      "├── \u001b[01;34m299\u001b[00m\n",
      "├── \u001b[01;34m300\u001b[00m\n",
      "├── \u001b[01;34m301\u001b[00m\n",
      "├── \u001b[01;34m302\u001b[00m\n",
      "├── \u001b[01;34m303\u001b[00m\n",
      "├── \u001b[01;34m304\u001b[00m\n",
      "├── \u001b[01;34m305\u001b[00m\n",
      "├── \u001b[01;34m306\u001b[00m\n",
      "├── \u001b[01;34m307\u001b[00m\n",
      "├── \u001b[01;34m308\u001b[00m\n",
      "├── \u001b[01;34m309\u001b[00m\n",
      "├── \u001b[01;34m310\u001b[00m\n",
      "├── \u001b[01;34m311\u001b[00m\n",
      "├── \u001b[01;34m312\u001b[00m\n",
      "├── \u001b[01;34m313\u001b[00m\n",
      "├── \u001b[01;34m314\u001b[00m\n",
      "├── \u001b[01;34m315\u001b[00m\n",
      "├── \u001b[01;34m316\u001b[00m\n",
      "├── \u001b[01;34m317\u001b[00m\n",
      "├── \u001b[01;34m318\u001b[00m\n",
      "├── \u001b[01;34m319\u001b[00m\n",
      "├── \u001b[01;34m320\u001b[00m\n",
      "├── \u001b[01;34m321\u001b[00m\n",
      "├── \u001b[01;34m322\u001b[00m\n",
      "├── \u001b[01;34m323\u001b[00m\n",
      "├── \u001b[01;34m324\u001b[00m\n",
      "├── \u001b[01;34m325\u001b[00m\n",
      "├── \u001b[01;34m326\u001b[00m\n",
      "├── \u001b[01;34m327\u001b[00m\n",
      "├── \u001b[01;34m328\u001b[00m\n",
      "├── \u001b[01;34m329\u001b[00m\n",
      "├── \u001b[01;34m330\u001b[00m\n",
      "├── \u001b[01;34m331\u001b[00m\n",
      "├── \u001b[01;34m332\u001b[00m\n",
      "├── \u001b[01;34m333\u001b[00m\n",
      "├── \u001b[01;34m334\u001b[00m\n",
      "├── \u001b[01;34m335\u001b[00m\n",
      "├── \u001b[01;34m336\u001b[00m\n",
      "├── \u001b[01;34m337\u001b[00m\n",
      "├── \u001b[01;34m338\u001b[00m\n",
      "├── \u001b[01;34m339\u001b[00m\n",
      "├── \u001b[01;34m340\u001b[00m\n",
      "├── \u001b[01;34m341\u001b[00m\n",
      "├── \u001b[01;34m342\u001b[00m\n",
      "├── \u001b[01;34m343\u001b[00m\n",
      "├── \u001b[01;34m344\u001b[00m\n",
      "├── \u001b[01;34m345\u001b[00m\n",
      "├── \u001b[01;34m346\u001b[00m\n",
      "├── \u001b[01;34m347\u001b[00m\n",
      "├── \u001b[01;34m348\u001b[00m\n",
      "├── \u001b[01;34m349\u001b[00m\n",
      "├── \u001b[01;34m350\u001b[00m\n",
      "├── \u001b[01;34m351\u001b[00m\n",
      "├── \u001b[01;34m352\u001b[00m\n",
      "├── \u001b[01;34m353\u001b[00m\n",
      "├── \u001b[01;34m354\u001b[00m\n",
      "├── \u001b[01;34m355\u001b[00m\n",
      "├── \u001b[01;34m356\u001b[00m\n",
      "├── \u001b[01;34m357\u001b[00m\n",
      "├── \u001b[01;34m358\u001b[00m\n",
      "├── \u001b[01;34m359\u001b[00m\n",
      "├── \u001b[01;34m360\u001b[00m\n",
      "├── \u001b[01;34m361\u001b[00m\n",
      "├── \u001b[01;34m362\u001b[00m\n",
      "├── \u001b[01;34m363\u001b[00m\n",
      "├── \u001b[01;34m364\u001b[00m\n",
      "├── \u001b[01;34m365\u001b[00m\n",
      "├── \u001b[01;34m366\u001b[00m\n",
      "├── \u001b[01;34m367\u001b[00m\n",
      "├── \u001b[01;34m368\u001b[00m\n",
      "├── \u001b[01;34m369\u001b[00m\n",
      "├── \u001b[01;34m370\u001b[00m\n",
      "├── \u001b[01;34m371\u001b[00m\n",
      "├── \u001b[01;34m372\u001b[00m\n",
      "├── \u001b[01;34m373\u001b[00m\n",
      "├── \u001b[01;34m374\u001b[00m\n",
      "├── \u001b[01;34m375\u001b[00m\n",
      "├── \u001b[01;34m376\u001b[00m\n",
      "├── \u001b[01;34m377\u001b[00m\n",
      "├── \u001b[01;34m378\u001b[00m\n",
      "├── \u001b[01;34m379\u001b[00m\n",
      "├── \u001b[01;34m380\u001b[00m\n",
      "├── \u001b[01;34m381\u001b[00m\n",
      "├── \u001b[01;34m382\u001b[00m\n",
      "├── \u001b[01;34m383\u001b[00m\n",
      "├── \u001b[01;34m384\u001b[00m\n",
      "├── \u001b[01;34m385\u001b[00m\n",
      "├── \u001b[01;34m386\u001b[00m\n",
      "├── \u001b[01;34m387\u001b[00m\n",
      "├── \u001b[01;34m388\u001b[00m\n",
      "├── \u001b[01;34m389\u001b[00m\n",
      "├── \u001b[01;34m390\u001b[00m\n",
      "├── \u001b[01;34m391\u001b[00m\n",
      "├── \u001b[01;34m392\u001b[00m\n",
      "├── \u001b[01;34m393\u001b[00m\n",
      "├── \u001b[01;34m394\u001b[00m\n",
      "├── \u001b[01;34m395\u001b[00m\n",
      "├── \u001b[01;34m396\u001b[00m\n",
      "├── \u001b[01;34m397\u001b[00m\n",
      "├── \u001b[01;34m398\u001b[00m\n",
      "├── \u001b[01;34m399\u001b[00m\n",
      "├── \u001b[01;34m400\u001b[00m\n",
      "├── \u001b[01;34m401\u001b[00m\n",
      "├── \u001b[01;34m402\u001b[00m\n",
      "├── \u001b[01;34m403\u001b[00m\n",
      "├── \u001b[01;34m404\u001b[00m\n",
      "├── \u001b[01;34m405\u001b[00m\n",
      "├── \u001b[01;34m406\u001b[00m\n",
      "├── \u001b[01;34m407\u001b[00m\n",
      "├── \u001b[01;34m408\u001b[00m\n",
      "├── \u001b[01;34m409\u001b[00m\n",
      "├── \u001b[01;34m410\u001b[00m\n",
      "├── \u001b[01;34m411\u001b[00m\n",
      "├── \u001b[01;34m412\u001b[00m\n",
      "├── \u001b[01;34m413\u001b[00m\n",
      "├── \u001b[01;34m414\u001b[00m\n",
      "├── \u001b[01;34m415\u001b[00m\n",
      "├── \u001b[01;34m416\u001b[00m\n",
      "├── \u001b[01;34m417\u001b[00m\n",
      "├── \u001b[01;34m418\u001b[00m\n",
      "├── \u001b[01;34m419\u001b[00m\n",
      "├── \u001b[01;34m420\u001b[00m\n",
      "├── \u001b[01;34m421\u001b[00m\n",
      "├── \u001b[01;34m422\u001b[00m\n",
      "├── \u001b[01;34m423\u001b[00m\n",
      "├── \u001b[01;34m424\u001b[00m\n",
      "├── \u001b[01;34m425\u001b[00m\n",
      "├── \u001b[01;34m426\u001b[00m\n",
      "├── \u001b[01;34m427\u001b[00m\n",
      "├── \u001b[01;34m428\u001b[00m\n",
      "├── \u001b[01;34m429\u001b[00m\n",
      "├── \u001b[01;34m430\u001b[00m\n",
      "├── \u001b[01;34m431\u001b[00m\n",
      "├── \u001b[01;34m432\u001b[00m\n",
      "├── \u001b[01;34m433\u001b[00m\n",
      "├── \u001b[01;34m434\u001b[00m\n",
      "├── \u001b[01;34m435\u001b[00m\n",
      "├── \u001b[01;34m436\u001b[00m\n",
      "├── \u001b[01;34m437\u001b[00m\n",
      "├── \u001b[01;34m438\u001b[00m\n",
      "├── \u001b[01;34m439\u001b[00m\n",
      "├── \u001b[01;34m440\u001b[00m\n",
      "├── \u001b[01;34m441\u001b[00m\n",
      "├── \u001b[01;34m442\u001b[00m\n",
      "├── \u001b[01;34m443\u001b[00m\n",
      "├── \u001b[01;34m444\u001b[00m\n",
      "├── \u001b[01;34m445\u001b[00m\n",
      "├── \u001b[01;34m446\u001b[00m\n",
      "├── \u001b[01;34m447\u001b[00m\n",
      "├── \u001b[01;34m448\u001b[00m\n",
      "├── \u001b[01;34m449\u001b[00m\n",
      "├── \u001b[01;34m450\u001b[00m\n",
      "├── \u001b[01;34m451\u001b[00m\n",
      "├── \u001b[01;34m452\u001b[00m\n",
      "├── \u001b[01;34m453\u001b[00m\n",
      "├── \u001b[01;34m454\u001b[00m\n",
      "├── \u001b[01;34m455\u001b[00m\n",
      "├── \u001b[01;34m456\u001b[00m\n",
      "├── \u001b[01;34m457\u001b[00m\n",
      "├── \u001b[01;34m458\u001b[00m\n",
      "├── \u001b[01;34m459\u001b[00m\n",
      "├── \u001b[01;34m460\u001b[00m\n",
      "├── \u001b[01;34m461\u001b[00m\n",
      "├── \u001b[01;34m462\u001b[00m\n",
      "├── \u001b[01;34m463\u001b[00m\n",
      "├── \u001b[01;34m464\u001b[00m\n",
      "├── \u001b[01;34m465\u001b[00m\n",
      "├── \u001b[01;34m466\u001b[00m\n",
      "├── \u001b[01;34m467\u001b[00m\n",
      "├── \u001b[01;34m468\u001b[00m\n",
      "├── \u001b[01;34m469\u001b[00m\n",
      "├── \u001b[01;34m470\u001b[00m\n",
      "├── \u001b[01;34m471\u001b[00m\n",
      "├── \u001b[01;34m472\u001b[00m\n",
      "├── \u001b[01;34m473\u001b[00m\n",
      "├── \u001b[01;34m474\u001b[00m\n",
      "├── \u001b[01;34m475\u001b[00m\n",
      "├── \u001b[01;34m476\u001b[00m\n",
      "├── \u001b[01;34m477\u001b[00m\n",
      "├── \u001b[01;34m478\u001b[00m\n",
      "├── \u001b[01;34m479\u001b[00m\n",
      "├── \u001b[01;34m480\u001b[00m\n",
      "├── \u001b[01;34m481\u001b[00m\n",
      "├── \u001b[01;34m482\u001b[00m\n",
      "├── \u001b[01;34m483\u001b[00m\n",
      "├── \u001b[01;34m484\u001b[00m\n",
      "├── \u001b[01;34m485\u001b[00m\n",
      "├── \u001b[01;34m486\u001b[00m\n",
      "├── \u001b[01;34m487\u001b[00m\n",
      "├── \u001b[01;34m488\u001b[00m\n",
      "├── \u001b[01;34m489\u001b[00m\n",
      "├── \u001b[01;34m490\u001b[00m\n",
      "├── \u001b[01;34m491\u001b[00m\n",
      "├── \u001b[01;34m492\u001b[00m\n",
      "├── \u001b[01;34m493\u001b[00m\n",
      "├── \u001b[01;34m494\u001b[00m\n",
      "├── \u001b[01;34m495\u001b[00m\n",
      "├── \u001b[01;34m496\u001b[00m\n",
      "├── \u001b[01;34m497\u001b[00m\n",
      "├── \u001b[01;34m498\u001b[00m\n",
      "└── \u001b[01;34m499\u001b[00m\n"
     ]
    },
    {
     "name": "stdout",
     "output_type": "stream",
     "text": [
      "\r\n",
      "500 directories\r\n"
     ]
    }
   ],
   "source": [
    "!tree -d {path}"
   ]
  },
  {
   "cell_type": "code",
   "execution_count": 11,
   "metadata": {},
   "outputs": [],
   "source": [
    "# lol = Path(str(path) + '/001/')"
   ]
  },
  {
   "cell_type": "code",
   "execution_count": 12,
   "metadata": {},
   "outputs": [],
   "source": [
    "path_sample = path.ls()[0]\n",
    "image_sample = path_sample.ls()[0]\n",
    "from PIL import Image \n",
    "sample_img = Image.open(image_sample)"
   ]
  },
  {
   "cell_type": "code",
   "execution_count": 13,
   "metadata": {},
   "outputs": [
    {
     "data": {
      "text/plain": [
       "(#10) [Path('/Users/jay.0tist/Documents/research/DRDO/CASIA-FaceV5-Crop/135'),Path('/Users/jay.0tist/Documents/research/DRDO/CASIA-FaceV5-Crop/307'),Path('/Users/jay.0tist/Documents/research/DRDO/CASIA-FaceV5-Crop/338'),Path('/Users/jay.0tist/Documents/research/DRDO/CASIA-FaceV5-Crop/300'),Path('/Users/jay.0tist/Documents/research/DRDO/CASIA-FaceV5-Crop/132'),Path('/Users/jay.0tist/Documents/research/DRDO/CASIA-FaceV5-Crop/336'),Path('/Users/jay.0tist/Documents/research/DRDO/CASIA-FaceV5-Crop/104'),Path('/Users/jay.0tist/Documents/research/DRDO/CASIA-FaceV5-Crop/309'),Path('/Users/jay.0tist/Documents/research/DRDO/CASIA-FaceV5-Crop/103'),Path('/Users/jay.0tist/Documents/research/DRDO/CASIA-FaceV5-Crop/331')]"
      ]
     },
     "execution_count": 13,
     "metadata": {},
     "output_type": "execute_result"
    }
   ],
   "source": [
    "prime_folders = path.ls()[:10]\n",
    "prime_folders"
   ]
  },
  {
   "cell_type": "code",
   "execution_count": 14,
   "metadata": {},
   "outputs": [],
   "source": [
    "all_images = list()\n",
    "\n",
    "for folders in prime_folders:\n",
    "    for f in folders.ls():\n",
    "        all_images.append(f)"
   ]
  },
  {
   "cell_type": "code",
   "execution_count": 15,
   "metadata": {},
   "outputs": [
    {
     "data": {
      "text/plain": [
       "(#50) [Path('/Users/jay.0tist/Documents/research/DRDO/CASIA-FaceV5-Crop/135/135_4.bmp'),Path('/Users/jay.0tist/Documents/research/DRDO/CASIA-FaceV5-Crop/135/135_2.bmp'),Path('/Users/jay.0tist/Documents/research/DRDO/CASIA-FaceV5-Crop/135/135_3.bmp'),Path('/Users/jay.0tist/Documents/research/DRDO/CASIA-FaceV5-Crop/135/135_1.bmp'),Path('/Users/jay.0tist/Documents/research/DRDO/CASIA-FaceV5-Crop/135/135_0.bmp'),Path('/Users/jay.0tist/Documents/research/DRDO/CASIA-FaceV5-Crop/307/307_4.bmp'),Path('/Users/jay.0tist/Documents/research/DRDO/CASIA-FaceV5-Crop/307/307_1.bmp'),Path('/Users/jay.0tist/Documents/research/DRDO/CASIA-FaceV5-Crop/307/307_0.bmp'),Path('/Users/jay.0tist/Documents/research/DRDO/CASIA-FaceV5-Crop/307/307_2.bmp'),Path('/Users/jay.0tist/Documents/research/DRDO/CASIA-FaceV5-Crop/307/307_3.bmp')...]"
      ]
     },
     "execution_count": 15,
     "metadata": {},
     "output_type": "execute_result"
    }
   ],
   "source": [
    "L(all_images)"
   ]
  },
  {
   "cell_type": "code",
   "execution_count": 16,
   "metadata": {},
   "outputs": [],
   "source": [
    "pairs = list()\n",
    "\n",
    "for image_i in all_images:\n",
    "    for image_j in all_images:\n",
    "        if(image_i != image_j):\n",
    "            pairs.append([image_i, image_j])\n",
    "            \n",
    "    all_images.remove(image_i)"
   ]
  },
  {
   "cell_type": "code",
   "execution_count": 17,
   "metadata": {},
   "outputs": [
    {
     "data": {
      "text/plain": [
       "(#925) [[Path('/Users/jay.0tist/Documents/research/DRDO/CASIA-FaceV5-Crop/135/135_4.bmp'), Path('/Users/jay.0tist/Documents/research/DRDO/CASIA-FaceV5-Crop/135/135_2.bmp')],[Path('/Users/jay.0tist/Documents/research/DRDO/CASIA-FaceV5-Crop/135/135_4.bmp'), Path('/Users/jay.0tist/Documents/research/DRDO/CASIA-FaceV5-Crop/135/135_3.bmp')],[Path('/Users/jay.0tist/Documents/research/DRDO/CASIA-FaceV5-Crop/135/135_4.bmp'), Path('/Users/jay.0tist/Documents/research/DRDO/CASIA-FaceV5-Crop/135/135_1.bmp')],[Path('/Users/jay.0tist/Documents/research/DRDO/CASIA-FaceV5-Crop/135/135_4.bmp'), Path('/Users/jay.0tist/Documents/research/DRDO/CASIA-FaceV5-Crop/135/135_0.bmp')],[Path('/Users/jay.0tist/Documents/research/DRDO/CASIA-FaceV5-Crop/135/135_4.bmp'), Path('/Users/jay.0tist/Documents/research/DRDO/CASIA-FaceV5-Crop/307/307_4.bmp')],[Path('/Users/jay.0tist/Documents/research/DRDO/CASIA-FaceV5-Crop/135/135_4.bmp'), Path('/Users/jay.0tist/Documents/research/DRDO/CASIA-FaceV5-Crop/307/307_1.bmp')],[Path('/Users/jay.0tist/Documents/research/DRDO/CASIA-FaceV5-Crop/135/135_4.bmp'), Path('/Users/jay.0tist/Documents/research/DRDO/CASIA-FaceV5-Crop/307/307_0.bmp')],[Path('/Users/jay.0tist/Documents/research/DRDO/CASIA-FaceV5-Crop/135/135_4.bmp'), Path('/Users/jay.0tist/Documents/research/DRDO/CASIA-FaceV5-Crop/307/307_2.bmp')],[Path('/Users/jay.0tist/Documents/research/DRDO/CASIA-FaceV5-Crop/135/135_4.bmp'), Path('/Users/jay.0tist/Documents/research/DRDO/CASIA-FaceV5-Crop/307/307_3.bmp')],[Path('/Users/jay.0tist/Documents/research/DRDO/CASIA-FaceV5-Crop/135/135_4.bmp'), Path('/Users/jay.0tist/Documents/research/DRDO/CASIA-FaceV5-Crop/338/338_4.bmp')]...]"
      ]
     },
     "execution_count": 17,
     "metadata": {},
     "output_type": "execute_result"
    }
   ],
   "source": [
    "L(pairs)"
   ]
  },
  {
   "cell_type": "code",
   "execution_count": 18,
   "metadata": {},
   "outputs": [],
   "source": [
    "df = pd.DataFrame()\n",
    "\n",
    "df['img_1'] = [pair[0] for pair in pairs]\n",
    "\n",
    "df['img_2'] = [pair[1] for pair in pairs]\n",
    "\n",
    "df['related'] = [1 if pair[0].parent.stem == pair[1].parent.stem else 0 for pair in pairs]"
   ]
  },
  {
   "cell_type": "code",
   "execution_count": 19,
   "metadata": {},
   "outputs": [
    {
     "data": {
      "text/html": [
       "<div>\n",
       "<style scoped>\n",
       "    .dataframe tbody tr th:only-of-type {\n",
       "        vertical-align: middle;\n",
       "    }\n",
       "\n",
       "    .dataframe tbody tr th {\n",
       "        vertical-align: top;\n",
       "    }\n",
       "\n",
       "    .dataframe thead th {\n",
       "        text-align: right;\n",
       "    }\n",
       "</style>\n",
       "<table border=\"1\" class=\"dataframe\">\n",
       "  <thead>\n",
       "    <tr style=\"text-align: right;\">\n",
       "      <th></th>\n",
       "      <th>img_1</th>\n",
       "      <th>img_2</th>\n",
       "      <th>related</th>\n",
       "    </tr>\n",
       "  </thead>\n",
       "  <tbody>\n",
       "    <tr>\n",
       "      <th>0</th>\n",
       "      <td>/Users/jay.0tist/Documents/research/DRDO/CASIA-FaceV5-Crop/135/135_4.bmp</td>\n",
       "      <td>/Users/jay.0tist/Documents/research/DRDO/CASIA-FaceV5-Crop/135/135_2.bmp</td>\n",
       "      <td>1</td>\n",
       "    </tr>\n",
       "    <tr>\n",
       "      <th>1</th>\n",
       "      <td>/Users/jay.0tist/Documents/research/DRDO/CASIA-FaceV5-Crop/135/135_4.bmp</td>\n",
       "      <td>/Users/jay.0tist/Documents/research/DRDO/CASIA-FaceV5-Crop/135/135_3.bmp</td>\n",
       "      <td>1</td>\n",
       "    </tr>\n",
       "    <tr>\n",
       "      <th>2</th>\n",
       "      <td>/Users/jay.0tist/Documents/research/DRDO/CASIA-FaceV5-Crop/135/135_4.bmp</td>\n",
       "      <td>/Users/jay.0tist/Documents/research/DRDO/CASIA-FaceV5-Crop/135/135_1.bmp</td>\n",
       "      <td>1</td>\n",
       "    </tr>\n",
       "    <tr>\n",
       "      <th>3</th>\n",
       "      <td>/Users/jay.0tist/Documents/research/DRDO/CASIA-FaceV5-Crop/135/135_4.bmp</td>\n",
       "      <td>/Users/jay.0tist/Documents/research/DRDO/CASIA-FaceV5-Crop/135/135_0.bmp</td>\n",
       "      <td>1</td>\n",
       "    </tr>\n",
       "    <tr>\n",
       "      <th>4</th>\n",
       "      <td>/Users/jay.0tist/Documents/research/DRDO/CASIA-FaceV5-Crop/135/135_4.bmp</td>\n",
       "      <td>/Users/jay.0tist/Documents/research/DRDO/CASIA-FaceV5-Crop/307/307_4.bmp</td>\n",
       "      <td>0</td>\n",
       "    </tr>\n",
       "  </tbody>\n",
       "</table>\n",
       "</div>"
      ],
      "text/plain": [
       "                                                                      img_1  \\\n",
       "0  /Users/jay.0tist/Documents/research/DRDO/CASIA-FaceV5-Crop/135/135_4.bmp   \n",
       "1  /Users/jay.0tist/Documents/research/DRDO/CASIA-FaceV5-Crop/135/135_4.bmp   \n",
       "2  /Users/jay.0tist/Documents/research/DRDO/CASIA-FaceV5-Crop/135/135_4.bmp   \n",
       "3  /Users/jay.0tist/Documents/research/DRDO/CASIA-FaceV5-Crop/135/135_4.bmp   \n",
       "4  /Users/jay.0tist/Documents/research/DRDO/CASIA-FaceV5-Crop/135/135_4.bmp   \n",
       "\n",
       "                                                                      img_2  \\\n",
       "0  /Users/jay.0tist/Documents/research/DRDO/CASIA-FaceV5-Crop/135/135_2.bmp   \n",
       "1  /Users/jay.0tist/Documents/research/DRDO/CASIA-FaceV5-Crop/135/135_3.bmp   \n",
       "2  /Users/jay.0tist/Documents/research/DRDO/CASIA-FaceV5-Crop/135/135_1.bmp   \n",
       "3  /Users/jay.0tist/Documents/research/DRDO/CASIA-FaceV5-Crop/135/135_0.bmp   \n",
       "4  /Users/jay.0tist/Documents/research/DRDO/CASIA-FaceV5-Crop/307/307_4.bmp   \n",
       "\n",
       "   related  \n",
       "0        1  \n",
       "1        1  \n",
       "2        1  \n",
       "3        1  \n",
       "4        0  "
      ]
     },
     "execution_count": 19,
     "metadata": {},
     "output_type": "execute_result"
    }
   ],
   "source": [
    "df.head()"
   ]
  },
  {
   "cell_type": "code",
   "execution_count": 20,
   "metadata": {},
   "outputs": [
    {
     "data": {
      "text/plain": [
       "(152, 150)"
      ]
     },
     "execution_count": 20,
     "metadata": {},
     "output_type": "execute_result"
    }
   ],
   "source": [
    "sample_img.shape"
   ]
  },
  {
   "cell_type": "code",
   "execution_count": 21,
   "metadata": {},
   "outputs": [],
   "source": [
    "sample_img = sample_img.resize((128,128))"
   ]
  },
  {
   "cell_type": "code",
   "execution_count": 22,
   "metadata": {},
   "outputs": [],
   "source": [
    "# cv2.selectROI(sample_img_cv)"
   ]
  },
  {
   "cell_type": "code",
   "execution_count": 23,
   "metadata": {},
   "outputs": [],
   "source": [
    "img_array = np.array(sample_img)[:, : , ::-1]\n",
    "sample_img = cv2.cvtColor(img_array, cv2.COLOR_BGR2RGB)"
   ]
  },
  {
   "cell_type": "code",
   "execution_count": 24,
   "metadata": {},
   "outputs": [
    {
     "data": {
      "text/plain": [
       "<matplotlib.image.AxesImage at 0x1536ddc90>"
      ]
     },
     "execution_count": 24,
     "metadata": {},
     "output_type": "execute_result"
    },
    {
     "data": {
      "image/png": "[encoded data removed]",
      "text/plain": [
       "<Figure size 432x288 with 1 Axes>"
      ]
     },
     "metadata": {
      "needs_background": "light"
     },
     "output_type": "display_data"
    }
   ],
   "source": [
    "import matplotlib.pyplot as plt \n",
    "\n",
    "plt.imshow(sample_img)"
   ]
  },
  {
   "cell_type": "code",
   "execution_count": 25,
   "metadata": {},
   "outputs": [
    {
     "data": {
      "text/plain": [
       "<matplotlib.image.AxesImage at 0x15375d4d0>"
      ]
     },
     "execution_count": 25,
     "metadata": {},
     "output_type": "execute_result"
    },
    {
     "data": {
      "image/png": "[encoded data removed]",
      "text/plain": [
       "<Figure size 432x288 with 1 Axes>"
      ]
     },
     "metadata": {
      "needs_background": "light"
     },
     "output_type": "display_data"
    }
   ],
   "source": [
    "denoised = cv2.fastNlMeansDenoisingColored(sample_img,None,10,10,3,21)\n",
    "plt.imshow(denoised)"
   ]
  },
  {
   "cell_type": "code",
   "execution_count": 26,
   "metadata": {},
   "outputs": [
    {
     "data": {
      "text/plain": [
       "<matplotlib.image.AxesImage at 0x1537cf210>"
      ]
     },
     "execution_count": 26,
     "metadata": {},
     "output_type": "execute_result"
    },
    {
     "data": {
      "image/png": "[encoded data removed]",
      "text/plain": [
       "<Figure size 432x288 with 1 Axes>"
      ]
     },
     "metadata": {
      "needs_background": "light"
     },
     "output_type": "display_data"
    }
   ],
   "source": [
    "grayed = cv2.cvtColor(denoised,cv2.COLOR_RGB2GRAY)\n",
    "plt.imshow(grayed, cmap='gray')"
   ]
  },
  {
   "cell_type": "code",
   "execution_count": 27,
   "metadata": {},
   "outputs": [],
   "source": [
    "fft = np.fft.fft2(grayed)\n",
    "fft_shift = np.fft.fftshift(fft)\n",
    "iff_shift = np.fft.ifftshift(fft_shift)\n",
    "ifft = np.fft.ifft2(iff_shift)"
   ]
  },
  {
   "cell_type": "code",
   "execution_count": 28,
   "metadata": {},
   "outputs": [
    {
     "data": {
      "image/png": "[encoded data removed]",
      "text/plain": [
       "<Figure size 432x288 with 2 Axes>"
      ]
     },
     "metadata": {
      "needs_background": "light"
     },
     "output_type": "display_data"
    }
   ],
   "source": [
    "plt.subplot(1,2,1), plt.imshow(grayed, cmap='gray')\n",
    "# plt.subplot(1,5,2), plt.imshow(np.log(1 + np.abs(fft)), cmap='gray')\n",
    "# plt.subplot(1,5,3), plt.imshow(np.log(1 + np.abs(fft_shift)), cmap='gray')\n",
    "# plt.subplot(1,5,4), plt.imshow(np.log(1 + np.abs.ifft_shift), cmap='gray')\n",
    "plt.subplot(1,2,2), plt.imshow(np.abs(ifft), cmap='gray')\n",
    "\n",
    "plt.show()"
   ]
  },
  {
   "cell_type": "markdown",
   "metadata": {},
   "source": [
    "not much difference, eh ?"
   ]
  },
  {
   "cell_type": "code",
   "execution_count": 29,
   "metadata": {},
   "outputs": [],
   "source": [
    "scales = [3, 5, 7, 9]\n",
    "orientations = [np.pi, 5*np.pi/6, 4*np.pi/6, np.pi/2, np.pi/3, np.pi/6]\n",
    "lambd = 3.\n",
    "gamma = 0.55\n",
    "sigma = 1.5\n",
    "\n",
    "filters = list()\n",
    "\n",
    "# σθ = 1.5, mult = 3\n",
    "for ksize in scales:\n",
    "    for theta in orientations:\n",
    "        filters.append(cv2.getGaborKernel((ksize, ksize), sigma, theta, lambd, gamma))"
   ]
  },
  {
   "cell_type": "code",
   "execution_count": 30,
   "metadata": {},
   "outputs": [
    {
     "data": {
      "text/plain": [
       "<matplotlib.image.AxesImage at 0x1538ff2d0>"
      ]
     },
     "execution_count": 30,
     "metadata": {},
     "output_type": "execute_result"
    },
    {
     "data": {
      "image/png": "[encoded data removed]",
      "text/plain": [
       "<Figure size 432x288 with 1 Axes>"
      ]
     },
     "metadata": {
      "needs_background": "light"
     },
     "output_type": "display_data"
    }
   ],
   "source": [
    "fimg = cv2.filter2D(grayed, cv2.CV_8UC1, filters[0])\n",
    "plt.imshow(fimg)"
   ]
  },
  {
   "cell_type": "code",
   "execution_count": 31,
   "metadata": {},
   "outputs": [
    {
     "data": {
      "text/plain": [
       "<matplotlib.image.AxesImage at 0x15396d0d0>"
      ]
     },
     "execution_count": 31,
     "metadata": {},
     "output_type": "execute_result"
    },
    {
     "data": {
      "image/png": "[encoded data removed]",
      "text/plain": [
       "<Figure size 432x288 with 1 Axes>"
      ]
     },
     "metadata": {
      "needs_background": "light"
     },
     "output_type": "display_data"
    }
   ],
   "source": [
    "fimg_ifft_shift = np.fft.ifftshift(fimg)\n",
    "fimg_ifft = np.fft.ifft2(fimg_ifft_shift)\n",
    "\n",
    "plt.imshow(np.abs(fimg_ifft), cmap='gray')"
   ]
  },
  {
   "cell_type": "code",
   "execution_count": 32,
   "metadata": {},
   "outputs": [],
   "source": [
    "# fimg = list()\n",
    "\n",
    "# for fil in filters:\n",
    "#     fimg.append(cv2.filter2D(grayed, cv2.CV_8UC1, fil))"
   ]
  },
  {
   "cell_type": "code",
   "execution_count": 33,
   "metadata": {},
   "outputs": [],
   "source": [
    "image_vectors = list()\n",
    "\n",
    "for fil in filters:\n",
    "    img = cv2.filter2D(grayed, cv2.CV_8UC1, fil)\n",
    "    img = img.reshape(-1)\n",
    "    image_vectors.append(img)"
   ]
  },
  {
   "cell_type": "code",
   "execution_count": null,
   "metadata": {},
   "outputs": [],
   "source": [
    "fv = np.array(image_vectors).reshape(-1)\n",
    "\n",
    "fv = fv * 100"
   ]
  },
  {
   "cell_type": "code",
   "execution_count": 36,
   "metadata": {},
   "outputs": [],
   "source": [
    "# I dont understand the user-specificty about the RG, but for now I think I'll use a random seed to specify each\n",
    "# user, afterall each seed signifies a diff set of random numbers generated.\n",
    "\n",
    "RG = np.random.randint(1, 255, fv.shape[0])\n",
    "\n",
    "fs = fv + RG"
   ]
  },
  {
   "cell_type": "code",
   "execution_count": 37,
   "metadata": {},
   "outputs": [
    {
     "data": {
      "text/plain": [
       "array([123, 175, 184, ..., 245, 159,  66])"
      ]
     },
     "execution_count": 37,
     "metadata": {},
     "output_type": "execute_result"
    }
   ],
   "source": [
    "fs"
   ]
  },
  {
   "cell_type": "code",
   "execution_count": 38,
   "metadata": {},
   "outputs": [
    {
     "data": {
      "text/plain": [
       "array([123, 175, 184, ...,  45,  59,  66])"
      ]
     },
     "execution_count": 38,
     "metadata": {},
     "output_type": "execute_result"
    }
   ],
   "source": [
    "RG"
   ]
  },
  {
   "cell_type": "code",
   "execution_count": 39,
   "metadata": {},
   "outputs": [
    {
     "data": {
      "text/plain": [
       "(array([123, 175, 184, ..., 236, 200,  80]),\n",
       " array([234, 220, 165, ..., 245, 159,  66]))"
      ]
     },
     "execution_count": 39,
     "metadata": {},
     "output_type": "execute_result"
    }
   ],
   "source": [
    "fX = fs[:fs.shape[0]//2]\n",
    "fY = fs[fs.shape[0]//2:]\n",
    "\n",
    "fX, fY"
   ]
  },
  {
   "cell_type": "code",
   "execution_count": 40,
   "metadata": {},
   "outputs": [],
   "source": [
    "K = np.random.uniform(-100, 100, fs.shape[0])\n",
    "\n",
    "K0 = K[:K.shape[0]//2]\n",
    "K1 = K[K.shape[0]//2:]\n",
    "K0, K1"
   ]
  },
  {
   "cell_type": "code",
   "execution_count": 42,
   "metadata": {},
   "outputs": [
    {
     "data": {
      "text/plain": [
       "array([374.77693106, 377.60730982, 278.82176433, ..., 293.68495888,\n",
       "       282.86879947, 125.35069286])"
      ]
     },
     "execution_count": 42,
     "metadata": {},
     "output_type": "execute_result"
    }
   ],
   "source": [
    "D = np.sqrt((fX - K0)**2 + (fY - K1)**2)\n",
    "D"
   ]
  },
  {
   "cell_type": "code",
   "execution_count": 43,
   "metadata": {},
   "outputs": [
    {
     "data": {
      "text/plain": [
       "(128, 128)"
      ]
     },
     "execution_count": 43,
     "metadata": {},
     "output_type": "execute_result"
    }
   ],
   "source": [
    "fft.shape"
   ]
  },
  {
   "cell_type": "code",
   "execution_count": 44,
   "metadata": {},
   "outputs": [],
   "source": [
    "def median_filter(array, fsize):\n",
    "    a = np.zeros(D.shape[0] + 2 * (fsize//2))\n",
    "    a[fsize//2: D.shape[0] + fsize//2] = array\n",
    "    for i in range(fsize//2, D.shape[0] + fsize//2):\n",
    "        fg = a[i-fsize//2: i+fsize//2+1]\n",
    "        fg = sorted(fg)\n",
    "        a[i] = fg[fsize//2]\n",
    "        \n",
    "    return a[fsize//2:  D.shape[0] + fsize//2 + 1]"
   ]
  },
  {
   "cell_type": "code",
   "execution_count": 45,
   "metadata": {},
   "outputs": [
    {
     "data": {
      "text/plain": [
       "array([278.82176433, 278.82176433, 278.82176433, ..., 254.46943701,\n",
       "       125.35069286,   0.        ])"
      ]
     },
     "execution_count": 45,
     "metadata": {},
     "output_type": "execute_result"
    }
   ],
   "source": [
    "Tf = median_filter(D, 5)\n",
    "Tf"
   ]
  },
  {
   "cell_type": "code",
   "execution_count": 46,
   "metadata": {},
   "outputs": [],
   "source": [
    "scales = [3, 5, 7, 9]\n",
    "orientations = [np.pi, 5*np.pi/6, 4*np.pi/6, np.pi/2, np.pi/3, np.pi/6]\n",
    "lambd = 3.\n",
    "gamma = 0.55\n",
    "sigma = 1.5\n",
    "\n",
    "def img_to_TF(src, filters, seed = 7, fsize=5):\n",
    "    \n",
    "    img = Image.open(src)\n",
    "    img = img.resize((128, 128))\n",
    "    img = np.array(img)[:, :, ::-1]\n",
    "    denoised = cv2.fastNlMeansDenoisingColored(img,None,10,10,3,21)    \n",
    "    gray = cv2.cvtColor(denoised, cv2.COLOR_RGB2GRAY)\n",
    "            \n",
    "    filtered_images = list()\n",
    "    for f in filters:\n",
    "        filtered_images.append(cv2.filter2D(gray, cv2.CV_8UC1, f))\n",
    "        \n",
    "    image_vectors = list()\n",
    "    for img in filtered_images:\n",
    "        fft = np.fft.fft2(img)\n",
    "        fft_shift = np.fft.fftshift(fft)\n",
    "        iff_shift = np.fft.ifftshift(fft_shift)\n",
    "        ifft = np.fft.ifft2(iff_shift)\n",
    "        image_vectors.append(ifft.reshape(-1))\n",
    "        \n",
    "    fv = np.array(image_vectors).reshape(-1) * 100\n",
    "    np.random.seed(seed)\n",
    "    RG = np.random.randint(1, 255, fv.shape[0])\n",
    "    fs = fv + RG\n",
    "    \n",
    "    fX = fs[:fs.shape[0]//2]\n",
    "    fY = fs[fs.shape[0]//2:]\n",
    "    \n",
    "    K = np.random.uniform(-100, 100, fs.shape[0])\n",
    "    K0 = K[:K.shape[0]//2]\n",
    "    K1 = K[K.shape[0]//2:]\n",
    "    \n",
    "    D = np.sqrt((fX - K0)**2 + (fY - K1)**2)\n",
    "    Tf = median_filter(D, fsize)\n",
    "    Tf = Tf.reshape(-1, 1)\n",
    "    return Tf, RG, K"
   ]
  },
  {
   "cell_type": "code",
   "execution_count": 47,
   "metadata": {},
   "outputs": [],
   "source": [
    "import os\n",
    "cwd = os.getcwd()"
   ]
  },
  {
   "cell_type": "code",
   "execution_count": 48,
   "metadata": {},
   "outputs": [
    {
     "data": {
      "text/plain": [
       "Path('/Users/jay.0tist/Documents/research/DRDO/performance_metric_EER/performance_metric_EER/fusion_iqa.mat')"
      ]
     },
     "execution_count": 48,
     "metadata": {},
     "output_type": "execute_result"
    }
   ],
   "source": [
    "get_mat_iqa = Path(cwd + '/performance_metric_EER/performance_metric_EER/fusion_iqa.mat')\n",
    "get_mat_iqa"
   ]
  },
  {
   "cell_type": "code",
   "execution_count": 51,
   "metadata": {},
   "outputs": [],
   "source": [
    "# import scipy.io\n",
    "# mat_iqa = scipy.io.loadmat(str(get_mat_iqa))"
   ]
  },
  {
   "cell_type": "code",
   "execution_count": 52,
   "metadata": {},
   "outputs": [],
   "source": [
    "# mat_iqa"
   ]
  },
  {
   "cell_type": "code",
   "execution_count": 53,
   "metadata": {},
   "outputs": [],
   "source": [
    "# mat_iqa['g'].shape, mat_iqa['im'].shape"
   ]
  },
  {
   "cell_type": "code",
   "execution_count": 54,
   "metadata": {},
   "outputs": [],
   "source": [
    "# get_mat_no_iqa = Path(cwd + '/performance_metric_EER/performance_metric_EER/fusion_no_iqa.mat')\n",
    "# get_mat_no_iqa"
   ]
  },
  {
   "cell_type": "code",
   "execution_count": 55,
   "metadata": {},
   "outputs": [],
   "source": [
    "# mat_no_iqa = scipy.io.loadmat(str(get_mat_no_iqa))\n",
    "# mat_no_iqa['g'].shape, mat_no_iqa['im'].shape"
   ]
  },
  {
   "cell_type": "code",
   "execution_count": 57,
   "metadata": {},
   "outputs": [],
   "source": [
    "from sklearn.metrics.pairwise import cosine_similarity\n",
    "\n",
    "# !python3 -m pip install pyDML\n",
    "\n",
    "from dml.kda import KDA"
   ]
  },
  {
   "cell_type": "code",
   "execution_count": 58,
   "metadata": {},
   "outputs": [],
   "source": [
    "KDA??"
   ]
  },
  {
   "cell_type": "code",
   "execution_count": 58,
   "metadata": {},
   "outputs": [],
   "source": [
    "# [img_to_TF(add, scales=scales, orientations=orientations, lambd=lambd, gamma=gamma, sigma=sigma) for add in df.img_1]"
   ]
  },
  {
   "cell_type": "code",
   "execution_count": 59,
   "metadata": {},
   "outputs": [],
   "source": [
    "def get_tf(src):\n",
    "    return img_to_TF(src, filters)"
   ]
  },
  {
   "cell_type": "code",
   "execution_count": null,
   "metadata": {},
   "outputs": [
    {
     "name": "stderr",
     "output_type": "stream",
     "text": [
      "/Users/jay.0tist/Library/Python/3.7/lib/python/site-packages/ipykernel_launcher.py:3: ComplexWarning: Casting complex values to real discards the imaginary part\n",
      "  This is separate from the ipykernel package so we can avoid doing imports until\n"
     ]
    }
   ],
   "source": [
    "cosine_similarity(get_tf(df.img_1[0])[0], get_tf(df.img_2[0])[0])"
   ]
  },
  {
   "cell_type": "code",
   "execution_count": 71,
   "metadata": {},
   "outputs": [
    {
     "name": "stderr",
     "output_type": "stream",
     "text": [
      "/Users/jay.0tist/Library/Python/3.7/lib/python/site-packages/ipykernel_launcher.py:3: ComplexWarning: Casting complex values to real discards the imaginary part\n",
      "  This is separate from the ipykernel package so we can avoid doing imports until\n"
     ]
    },
    {
     "data": {
      "text/plain": [
       "array([[142.24108729],\n",
       "       [142.24108729],\n",
       "       [142.24108729],\n",
       "       ...,\n",
       "       [209.33500023],\n",
       "       [209.33500023],\n",
       "       [  0.        ]])"
      ]
     },
     "execution_count": 71,
     "metadata": {},
     "output_type": "execute_result"
    }
   ],
   "source": [
    "get_tf(df.img_1[0])[0].reshape(-1, 1)"
   ]
  },
  {
   "cell_type": "code",
   "execution_count": 14,
   "metadata": {},
   "outputs": [
    {
     "data": {
      "text/plain": [
       "({'__header__': b'MATLAB 5.0 MAT-file, Platform: PCWIN64, Created on: Sun Jan 13 18:20:43 2019',\n",
       "  '__version__': '1.0',\n",
       "  '__globals__': [],\n",
       "  'g': array([[1.77378552, 2.03889369, 1.7750504 , 1.48810946, 2.03576919,\n",
       "          1.62956017, 1.74720353, 2.08632951, 1.6907977 , 1.78294917,\n",
       "          1.20435866, 2.18519927, 1.86308822, 1.57949223, 1.99487398,\n",
       "          1.77597333, 2.04884129, 1.72514884, 2.26208751, 1.65828277,\n",
       "          1.6810667 , 1.4401893 , 1.36664077, 1.286373  , 1.34932822,\n",
       "          1.55830971, 1.68374002, 1.56046616, 2.3092922 , 1.89867853,\n",
       "          1.77598796, 1.2917308 , 1.39741714, 1.61519901, 1.7639738 ,\n",
       "          0.70876049, 1.7406529 , 1.31775967, 1.64555489, 1.79586479,\n",
       "          1.92812954, 1.82852383, 1.87479578, 1.79158375, 2.22208133,\n",
       "          2.31026146, 1.6708808 , 1.5823291 , 2.28297967, 1.89279993,\n",
       "          1.52246987, 2.0257039 , 1.70161568, 1.67576733, 1.52629283,\n",
       "          1.8162512 , 1.94031171, 1.23511743, 1.41630407, 1.79234232,\n",
       "          1.86281896, 1.51067273, 1.85720176, 2.15224607, 1.78510664,\n",
       "          1.72951613, 1.56055973, 1.98321784, 1.26749633, 1.98876766,\n",
       "          1.91831767, 1.60990765, 1.54254092, 1.96352008, 1.20932093,\n",
       "          1.82640727, 1.41733526, 1.90853786, 1.65770082, 1.49156848,\n",
       "          1.84514797, 1.50065224, 1.89206783, 1.22208573, 1.58117577,\n",
       "          1.87874624, 1.3752977 , 1.57946571, 1.50154742, 1.6568925 ,\n",
       "          1.8490105 , 1.3858329 , 1.41441625, 1.7529981 , 1.75455623,\n",
       "          1.94831885, 1.53554976, 1.66988501, 1.29648402, 1.56739657]]),\n",
       "  'im': array([[0.37959644, 0.30775833, 1.01416829, ..., 0.38752957, 0.46504864,\n",
       "          0.57882857]])},\n",
       " {'__header__': b'MATLAB 5.0 MAT-file, Platform: PCWIN64, Created on: Sun Jan 13 18:21:36 2019',\n",
       "  '__version__': '1.0',\n",
       "  '__globals__': [],\n",
       "  'g': array([[1.85048796, 2.00174821, 1.61616002, 2.04963026, 1.89678291,\n",
       "          1.73723373, 1.80345396, 2.16218995, 1.54265537, 1.96521669,\n",
       "          1.16846167, 2.21103726, 1.95864778, 1.73143892, 2.11417639,\n",
       "          1.74480329, 2.02642291, 1.7843592 , 2.29491525, 1.71803908,\n",
       "          1.4791816 , 1.43362227, 1.14354123, 1.28500445, 1.33398233,\n",
       "          1.60858445, 1.56984108, 1.52892271, 2.22431898, 2.06597092,\n",
       "          1.76398254, 1.24072004, 1.30055103, 1.51003748, 1.65081864,\n",
       "          0.75621022, 1.84323702, 1.3473177 , 1.53853412, 1.82799751,\n",
       "          1.95036597, 1.7382206 , 1.70271343, 1.76440739, 2.2113003 ,\n",
       "          2.19673241, 1.5584441 , 1.50948853, 2.19515653, 1.80558543,\n",
       "          1.38575781, 2.03048481, 1.71865175, 1.61250555, 1.38981108,\n",
       "          1.77152049, 1.93698861, 1.21629814, 1.29736964, 1.80299272,\n",
       "          2.18917407, 1.63829623, 1.83590938, 1.9881622 , 1.5726915 ,\n",
       "          1.54497537, 1.57014667, 2.02610083, 1.30893826, 2.01064188,\n",
       "          1.85721979, 1.7205062 , 1.48102035, 1.88320845, 1.43160547,\n",
       "          1.45963224, 1.10462508, 1.92073803, 1.70068344, 1.38888465,\n",
       "          1.77777349, 1.29660664, 1.98155265, 1.03627471, 1.55166758,\n",
       "          1.77845789, 1.42508176, 1.50838346, 1.52772884, 1.59823296,\n",
       "          1.93412068, 1.32321301, 1.45245039, 1.7425867 , 1.82375946,\n",
       "          1.96045715, 1.43621334, 1.56763951, 1.46997893, 1.65880073]]),\n",
       "  'im': array([[0.35798561, 0.28621758, 1.03266696, ..., 0.39504651, 0.4463072 ,\n",
       "          0.60795829]])})"
      ]
     },
     "execution_count": 14,
     "metadata": {},
     "output_type": "execute_result"
    }
   ],
   "source": [
    "# mat_iqa, mat_no_iqa"
   ]
  },
  {
   "cell_type": "code",
   "execution_count": 3,
   "metadata": {},
   "outputs": [],
   "source": [
    "import pandas as pd"
   ]
  },
  {
   "cell_type": "code",
   "execution_count": 57,
   "metadata": {},
   "outputs": [],
   "source": [
    "df = pd.DataFrame()"
   ]
  },
  {
   "cell_type": "code",
   "execution_count": 58,
   "metadata": {},
   "outputs": [],
   "source": [
    "df['g'] = [i for i in mat_iqa['g'].reshape(-1, 1)] + [i for i in mat_no_iqa['g'].reshape(-1, 1)]"
   ]
  },
  {
   "cell_type": "code",
   "execution_count": 59,
   "metadata": {},
   "outputs": [],
   "source": [
    "df['label'] = [1 for i in range(mat_iqa['g'].reshape(-1, 1).shape[0])] + [0 for i in range(mat_no_iqa['g'].reshape(-1, 1).shape[0])]"
   ]
  },
  {
   "cell_type": "code",
   "execution_count": 60,
   "metadata": {},
   "outputs": [
    {
     "data": {
      "text/html": [
       "<div>\n",
       "<style scoped>\n",
       "    .dataframe tbody tr th:only-of-type {\n",
       "        vertical-align: middle;\n",
       "    }\n",
       "\n",
       "    .dataframe tbody tr th {\n",
       "        vertical-align: top;\n",
       "    }\n",
       "\n",
       "    .dataframe thead th {\n",
       "        text-align: right;\n",
       "    }\n",
       "</style>\n",
       "<table border=\"1\" class=\"dataframe\">\n",
       "  <thead>\n",
       "    <tr style=\"text-align: right;\">\n",
       "      <th></th>\n",
       "      <th>g</th>\n",
       "      <th>label</th>\n",
       "    </tr>\n",
       "  </thead>\n",
       "  <tbody>\n",
       "    <tr>\n",
       "      <th>0</th>\n",
       "      <td>[1.7737855210434308]</td>\n",
       "      <td>1</td>\n",
       "    </tr>\n",
       "    <tr>\n",
       "      <th>1</th>\n",
       "      <td>[2.038893689407437]</td>\n",
       "      <td>1</td>\n",
       "    </tr>\n",
       "    <tr>\n",
       "      <th>2</th>\n",
       "      <td>[1.7750503962507882]</td>\n",
       "      <td>1</td>\n",
       "    </tr>\n",
       "    <tr>\n",
       "      <th>3</th>\n",
       "      <td>[1.4881094639483856]</td>\n",
       "      <td>1</td>\n",
       "    </tr>\n",
       "    <tr>\n",
       "      <th>4</th>\n",
       "      <td>[2.0357691890756717]</td>\n",
       "      <td>1</td>\n",
       "    </tr>\n",
       "    <tr>\n",
       "      <th>...</th>\n",
       "      <td>...</td>\n",
       "      <td>...</td>\n",
       "    </tr>\n",
       "    <tr>\n",
       "      <th>195</th>\n",
       "      <td>[1.9604571525739534]</td>\n",
       "      <td>0</td>\n",
       "    </tr>\n",
       "    <tr>\n",
       "      <th>196</th>\n",
       "      <td>[1.4362133432931468]</td>\n",
       "      <td>0</td>\n",
       "    </tr>\n",
       "    <tr>\n",
       "      <th>197</th>\n",
       "      <td>[1.567639510213254]</td>\n",
       "      <td>0</td>\n",
       "    </tr>\n",
       "    <tr>\n",
       "      <th>198</th>\n",
       "      <td>[1.4699789253124358]</td>\n",
       "      <td>0</td>\n",
       "    </tr>\n",
       "    <tr>\n",
       "      <th>199</th>\n",
       "      <td>[1.6588007291100602]</td>\n",
       "      <td>0</td>\n",
       "    </tr>\n",
       "  </tbody>\n",
       "</table>\n",
       "<p>200 rows × 2 columns</p>\n",
       "</div>"
      ],
      "text/plain": [
       "                        g  label\n",
       "0    [1.7737855210434308]      1\n",
       "1     [2.038893689407437]      1\n",
       "2    [1.7750503962507882]      1\n",
       "3    [1.4881094639483856]      1\n",
       "4    [2.0357691890756717]      1\n",
       "..                    ...    ...\n",
       "195  [1.9604571525739534]      0\n",
       "196  [1.4362133432931468]      0\n",
       "197   [1.567639510213254]      0\n",
       "198  [1.4699789253124358]      0\n",
       "199  [1.6588007291100602]      0\n",
       "\n",
       "[200 rows x 2 columns]"
      ]
     },
     "execution_count": 60,
     "metadata": {},
     "output_type": "execute_result"
    }
   ],
   "source": [
    "df"
   ]
  },
  {
   "cell_type": "code",
   "execution_count": 61,
   "metadata": {},
   "outputs": [],
   "source": [
    "df.to_csv('g.csv')"
   ]
  },
  {
   "cell_type": "code",
   "execution_count": 62,
   "metadata": {},
   "outputs": [],
   "source": [
    "DF = pd.DataFrame()"
   ]
  },
  {
   "cell_type": "code",
   "execution_count": 63,
   "metadata": {},
   "outputs": [],
   "source": [
    "DF['im'] = [i for i in mat_iqa['im'].reshape(-1,1)] + [i for i in mat_no_iqa['im'].reshape(-1, 1)]\n",
    "DF['label'] = [1 for i in mat_iqa['im'].reshape(-1, 1)] + [0 for i in mat_no_iqa['im'].reshape(-1, 1)]"
   ]
  },
  {
   "cell_type": "code",
   "execution_count": 64,
   "metadata": {},
   "outputs": [
    {
     "data": {
      "text/html": [
       "<div>\n",
       "<style scoped>\n",
       "    .dataframe tbody tr th:only-of-type {\n",
       "        vertical-align: middle;\n",
       "    }\n",
       "\n",
       "    .dataframe tbody tr th {\n",
       "        vertical-align: top;\n",
       "    }\n",
       "\n",
       "    .dataframe thead th {\n",
       "        text-align: right;\n",
       "    }\n",
       "</style>\n",
       "<table border=\"1\" class=\"dataframe\">\n",
       "  <thead>\n",
       "    <tr style=\"text-align: right;\">\n",
       "      <th></th>\n",
       "      <th>im</th>\n",
       "      <th>label</th>\n",
       "    </tr>\n",
       "  </thead>\n",
       "  <tbody>\n",
       "    <tr>\n",
       "      <th>0</th>\n",
       "      <td>[0.37959643536535936]</td>\n",
       "      <td>1</td>\n",
       "    </tr>\n",
       "    <tr>\n",
       "      <th>1</th>\n",
       "      <td>[0.307758333667414]</td>\n",
       "      <td>1</td>\n",
       "    </tr>\n",
       "    <tr>\n",
       "      <th>2</th>\n",
       "      <td>[1.0141682924485207]</td>\n",
       "      <td>1</td>\n",
       "    </tr>\n",
       "    <tr>\n",
       "      <th>3</th>\n",
       "      <td>[0.6118586048276161]</td>\n",
       "      <td>1</td>\n",
       "    </tr>\n",
       "    <tr>\n",
       "      <th>4</th>\n",
       "      <td>[0.8450452377597938]</td>\n",
       "      <td>1</td>\n",
       "    </tr>\n",
       "    <tr>\n",
       "      <th>...</th>\n",
       "      <td>...</td>\n",
       "      <td>...</td>\n",
       "    </tr>\n",
       "    <tr>\n",
       "      <th>19795</th>\n",
       "      <td>[0.3270451632297114]</td>\n",
       "      <td>0</td>\n",
       "    </tr>\n",
       "    <tr>\n",
       "      <th>19796</th>\n",
       "      <td>[0.33457013968752863]</td>\n",
       "      <td>0</td>\n",
       "    </tr>\n",
       "    <tr>\n",
       "      <th>19797</th>\n",
       "      <td>[0.39504651123063106]</td>\n",
       "      <td>0</td>\n",
       "    </tr>\n",
       "    <tr>\n",
       "      <th>19798</th>\n",
       "      <td>[0.4463072012403995]</td>\n",
       "      <td>0</td>\n",
       "    </tr>\n",
       "    <tr>\n",
       "      <th>19799</th>\n",
       "      <td>[0.6079582888096657]</td>\n",
       "      <td>0</td>\n",
       "    </tr>\n",
       "  </tbody>\n",
       "</table>\n",
       "<p>19800 rows × 2 columns</p>\n",
       "</div>"
      ],
      "text/plain": [
       "                          im  label\n",
       "0      [0.37959643536535936]      1\n",
       "1        [0.307758333667414]      1\n",
       "2       [1.0141682924485207]      1\n",
       "3       [0.6118586048276161]      1\n",
       "4       [0.8450452377597938]      1\n",
       "...                      ...    ...\n",
       "19795   [0.3270451632297114]      0\n",
       "19796  [0.33457013968752863]      0\n",
       "19797  [0.39504651123063106]      0\n",
       "19798   [0.4463072012403995]      0\n",
       "19799   [0.6079582888096657]      0\n",
       "\n",
       "[19800 rows x 2 columns]"
      ]
     },
     "execution_count": 64,
     "metadata": {},
     "output_type": "execute_result"
    }
   ],
   "source": [
    "DF"
   ]
  },
  {
   "cell_type": "code",
   "execution_count": 65,
   "metadata": {},
   "outputs": [],
   "source": [
    "DF.to_csv('im.csv')"
   ]
  },
  {
   "cell_type": "code",
   "execution_count": 6,
   "metadata": {},
   "outputs": [],
   "source": [
    "data_g = pd.read_csv('g.csv')\n",
    "data_im = pd.read_csv('im.csv')"
   ]
  },
  {
   "cell_type": "code",
   "execution_count": 17,
   "metadata": {},
   "outputs": [
    {
     "data": {
      "text/plain": [
       "[1.77378552,\n",
       " 2.03889369,\n",
       " 1.7750504,\n",
       " 1.48810946,\n",
       " 2.03576919,\n",
       " 1.62956017,\n",
       " 1.74720353,\n",
       " 2.08632951,\n",
       " 1.6907977,\n",
       " 1.78294917,\n",
       " 1.20435866,\n",
       " 2.18519927,\n",
       " 1.86308822,\n",
       " 1.57949223,\n",
       " 1.99487398,\n",
       " 1.77597333,\n",
       " 2.04884129,\n",
       " 1.72514884,\n",
       " 2.26208751,\n",
       " 1.65828277,\n",
       " 1.6810667,\n",
       " 1.4401893,\n",
       " 1.36664077,\n",
       " 1.286373,\n",
       " 1.34932822,\n",
       " 1.55830971,\n",
       " 1.68374002,\n",
       " 1.56046616,\n",
       " 2.3092922,\n",
       " 1.89867853,\n",
       " 1.77598796,\n",
       " 1.2917308,\n",
       " 1.39741714,\n",
       " 1.61519901,\n",
       " 1.7639738,\n",
       " 0.70876049,\n",
       " 1.7406529,\n",
       " 1.31775967,\n",
       " 1.64555489,\n",
       " 1.79586479,\n",
       " 1.92812954,\n",
       " 1.82852383,\n",
       " 1.87479578,\n",
       " 1.79158375,\n",
       " 2.22208133,\n",
       " 2.31026146,\n",
       " 1.6708808,\n",
       " 1.5823291,\n",
       " 2.28297967,\n",
       " 1.89279993,\n",
       " 1.52246987,\n",
       " 2.0257039,\n",
       " 1.70161568,\n",
       " 1.67576733,\n",
       " 1.52629283,\n",
       " 1.8162512,\n",
       " 1.94031171,\n",
       " 1.23511743,\n",
       " 1.41630407,\n",
       " 1.79234232,\n",
       " 1.86281896,\n",
       " 1.51067273,\n",
       " 1.85720176,\n",
       " 2.15224607,\n",
       " 1.78510664,\n",
       " 1.72951613,\n",
       " 1.56055973,\n",
       " 1.98321784,\n",
       " 1.26749633,\n",
       " 1.98876766,\n",
       " 1.91831767,\n",
       " 1.60990765,\n",
       " 1.54254092,\n",
       " 1.96352008,\n",
       " 1.20932093,\n",
       " 1.82640727,\n",
       " 1.41733526,\n",
       " 1.90853786,\n",
       " 1.65770082,\n",
       " 1.49156848,\n",
       " 1.84514797,\n",
       " 1.50065224,\n",
       " 1.89206783,\n",
       " 1.22208573,\n",
       " 1.58117577,\n",
       " 1.87874624,\n",
       " 1.3752977,\n",
       " 1.57946571,\n",
       " 1.50154742,\n",
       " 1.6568925,\n",
       " 1.8490105,\n",
       " 1.3858329,\n",
       " 1.41441625,\n",
       " 1.7529981,\n",
       " 1.75455623,\n",
       " 1.94831885,\n",
       " 1.53554976,\n",
       " 1.66988501,\n",
       " 1.29648402,\n",
       " 1.56739657,\n",
       " 1.85048796,\n",
       " 2.00174821,\n",
       " 1.61616002,\n",
       " 2.04963026,\n",
       " 1.89678291,\n",
       " 1.73723373,\n",
       " 1.80345396,\n",
       " 2.16218995,\n",
       " 1.54265537,\n",
       " 1.96521669,\n",
       " 1.16846167,\n",
       " 2.21103726,\n",
       " 1.95864778,\n",
       " 1.73143892,\n",
       " 2.11417639,\n",
       " 1.74480329,\n",
       " 2.02642291,\n",
       " 1.7843592,\n",
       " 2.29491525,\n",
       " 1.71803908,\n",
       " 1.4791816,\n",
       " 1.43362227,\n",
       " 1.14354123,\n",
       " 1.28500445,\n",
       " 1.33398233,\n",
       " 1.60858445,\n",
       " 1.56984108,\n",
       " 1.52892271,\n",
       " 2.22431898,\n",
       " 2.06597092,\n",
       " 1.76398254,\n",
       " 1.24072004,\n",
       " 1.30055103,\n",
       " 1.51003748,\n",
       " 1.65081864,\n",
       " 0.75621022,\n",
       " 1.84323702,\n",
       " 1.3473177,\n",
       " 1.53853412,\n",
       " 1.82799751,\n",
       " 1.95036597,\n",
       " 1.7382206,\n",
       " 1.70271343,\n",
       " 1.76440739,\n",
       " 2.2113003,\n",
       " 2.19673241,\n",
       " 1.5584441,\n",
       " 1.50948853,\n",
       " 2.19515653,\n",
       " 1.80558543,\n",
       " 1.38575781,\n",
       " 2.03048481,\n",
       " 1.71865175,\n",
       " 1.61250555,\n",
       " 1.38981108,\n",
       " 1.77152049,\n",
       " 1.93698861,\n",
       " 1.21629814,\n",
       " 1.29736964,\n",
       " 1.80299272,\n",
       " 2.18917407,\n",
       " 1.63829623,\n",
       " 1.83590938,\n",
       " 1.9881622,\n",
       " 1.5726915,\n",
       " 1.54497537,\n",
       " 1.57014667,\n",
       " 2.02610083,\n",
       " 1.30893826,\n",
       " 2.01064188,\n",
       " 1.85721979,\n",
       " 1.7205062,\n",
       " 1.48102035,\n",
       " 1.88320845,\n",
       " 1.43160547,\n",
       " 1.45963224,\n",
       " 1.10462508,\n",
       " 1.92073803,\n",
       " 1.70068344,\n",
       " 1.38888465,\n",
       " 1.77777349,\n",
       " 1.29660664,\n",
       " 1.98155265,\n",
       " 1.03627471,\n",
       " 1.55166758,\n",
       " 1.77845789,\n",
       " 1.42508176,\n",
       " 1.50838346,\n",
       " 1.52772884,\n",
       " 1.59823296,\n",
       " 1.93412068,\n",
       " 1.32321301,\n",
       " 1.45245039,\n",
       " 1.7425867,\n",
       " 1.82375946,\n",
       " 1.96045715,\n",
       " 1.43621334,\n",
       " 1.56763951,\n",
       " 1.46997893,\n",
       " 1.65880073]"
      ]
     },
     "execution_count": 17,
     "metadata": {},
     "output_type": "execute_result"
    }
   ],
   "source": [
    "[float(i[1:-1]) for i in data_g.g]"
   ]
  },
  {
   "cell_type": "code",
   "execution_count": 7,
   "metadata": {},
   "outputs": [
    {
     "data": {
      "text/plain": [
       "200"
      ]
     },
     "execution_count": 7,
     "metadata": {},
     "output_type": "execute_result"
    }
   ],
   "source": [
    "len(data_g)"
   ]
  },
  {
   "cell_type": "code",
   "execution_count": 8,
   "metadata": {},
   "outputs": [],
   "source": [
    "data = pd.DataFrame()"
   ]
  },
  {
   "cell_type": "code",
   "execution_count": 18,
   "metadata": {},
   "outputs": [],
   "source": [
    "data['scores'] = [float(i[1:-1]) for i in data_g.g] + [float(i[1:-1]) for i in data_im.im]\n",
    "data['labels'] = [1 for i in range(len(data_g))] + [0 for i in range(len(data_im))]"
   ]
  },
  {
   "cell_type": "code",
   "execution_count": 19,
   "metadata": {},
   "outputs": [
    {
     "data": {
      "text/html": [
       "<div>\n",
       "<style scoped>\n",
       "    .dataframe tbody tr th:only-of-type {\n",
       "        vertical-align: middle;\n",
       "    }\n",
       "\n",
       "    .dataframe tbody tr th {\n",
       "        vertical-align: top;\n",
       "    }\n",
       "\n",
       "    .dataframe thead th {\n",
       "        text-align: right;\n",
       "    }\n",
       "</style>\n",
       "<table border=\"1\" class=\"dataframe\">\n",
       "  <thead>\n",
       "    <tr style=\"text-align: right;\">\n",
       "      <th></th>\n",
       "      <th>scores</th>\n",
       "      <th>labels</th>\n",
       "    </tr>\n",
       "  </thead>\n",
       "  <tbody>\n",
       "    <tr>\n",
       "      <th>0</th>\n",
       "      <td>1.773786</td>\n",
       "      <td>1</td>\n",
       "    </tr>\n",
       "    <tr>\n",
       "      <th>1</th>\n",
       "      <td>2.038894</td>\n",
       "      <td>1</td>\n",
       "    </tr>\n",
       "    <tr>\n",
       "      <th>2</th>\n",
       "      <td>1.775050</td>\n",
       "      <td>1</td>\n",
       "    </tr>\n",
       "    <tr>\n",
       "      <th>3</th>\n",
       "      <td>1.488109</td>\n",
       "      <td>1</td>\n",
       "    </tr>\n",
       "    <tr>\n",
       "      <th>4</th>\n",
       "      <td>2.035769</td>\n",
       "      <td>1</td>\n",
       "    </tr>\n",
       "    <tr>\n",
       "      <th>...</th>\n",
       "      <td>...</td>\n",
       "      <td>...</td>\n",
       "    </tr>\n",
       "    <tr>\n",
       "      <th>19995</th>\n",
       "      <td>0.327045</td>\n",
       "      <td>0</td>\n",
       "    </tr>\n",
       "    <tr>\n",
       "      <th>19996</th>\n",
       "      <td>0.334570</td>\n",
       "      <td>0</td>\n",
       "    </tr>\n",
       "    <tr>\n",
       "      <th>19997</th>\n",
       "      <td>0.395047</td>\n",
       "      <td>0</td>\n",
       "    </tr>\n",
       "    <tr>\n",
       "      <th>19998</th>\n",
       "      <td>0.446307</td>\n",
       "      <td>0</td>\n",
       "    </tr>\n",
       "    <tr>\n",
       "      <th>19999</th>\n",
       "      <td>0.607958</td>\n",
       "      <td>0</td>\n",
       "    </tr>\n",
       "  </tbody>\n",
       "</table>\n",
       "<p>20000 rows × 2 columns</p>\n",
       "</div>"
      ],
      "text/plain": [
       "         scores  labels\n",
       "0      1.773786       1\n",
       "1      2.038894       1\n",
       "2      1.775050       1\n",
       "3      1.488109       1\n",
       "4      2.035769       1\n",
       "...         ...     ...\n",
       "19995  0.327045       0\n",
       "19996  0.334570       0\n",
       "19997  0.395047       0\n",
       "19998  0.446307       0\n",
       "19999  0.607958       0\n",
       "\n",
       "[20000 rows x 2 columns]"
      ]
     },
     "execution_count": 19,
     "metadata": {},
     "output_type": "execute_result"
    }
   ],
   "source": [
    "data"
   ]
  },
  {
   "cell_type": "code",
   "execution_count": 20,
   "metadata": {},
   "outputs": [],
   "source": [
    "data_cropped = data[:1000]"
   ]
  },
  {
   "cell_type": "code",
   "execution_count": 24,
   "metadata": {},
   "outputs": [],
   "source": [
    "data.to_csv('data.csv')\n",
    "data_cropped.to_csv('data_cropped.csv')"
   ]
  },
  {
   "cell_type": "code",
   "execution_count": 23,
   "metadata": {},
   "outputs": [],
   "source": [
    "from sklearn.model_selection import train_test_split\n",
    "x_train, x_test, y_train, y_test = train_test_split(data_cropped.scores, data_cropped.labels, test_size=0.2, random_state=7)"
   ]
  },
  {
   "cell_type": "code",
   "execution_count": 26,
   "metadata": {},
   "outputs": [
    {
     "data": {
      "text/plain": [
       "'/Users/jay.0tist/Library/Python/3.7/lib/python/site-packages/numpy/core/include'"
      ]
     },
     "execution_count": 26,
     "metadata": {},
     "output_type": "execute_result"
    }
   ],
   "source": [
    "import numpy as np\n",
    "np.get_include()"
   ]
  },
  {
   "cell_type": "code",
   "execution_count": 5,
   "metadata": {},
   "outputs": [],
   "source": [
    "import pandas as pd\n",
    "data = pd.read_csv('calculated.csv')\n",
    "data_aux = pd.DataFrame()"
   ]
  },
  {
   "cell_type": "code",
   "execution_count": 6,
   "metadata": {},
   "outputs": [],
   "source": [
    "data_aux['scores'] = [float(i[2:-2]) for i in data.scores]\n",
    "data_aux['labels'] = [i for i in data.labels]"
   ]
  },
  {
   "cell_type": "code",
   "execution_count": 7,
   "metadata": {},
   "outputs": [],
   "source": [
    "data_aux.to_csv('calculated.csv')"
   ]
  },
  {
   "cell_type": "code",
   "execution_count": null,
   "metadata": {},
   "outputs": [],
   "source": []
  }
 ],
 "metadata": {
  "kernelspec": {
   "display_name": "Python 3.7.7 64-bit",
   "language": "python",
   "name": "python37764bit023efc32032c4697bad016424e1bf55e"
  },
  "language_info": {
   "codemirror_mode": {
    "name": "ipython",
    "version": 3
   },
   "file_extension": ".py",
   "mimetype": "text/x-python",
   "name": "python",
   "nbconvert_exporter": "python",
   "pygments_lexer": "ipython3",
   "version": "3.7.8"
  }
 },
 "nbformat": 4,
 "nbformat_minor": 4
}
